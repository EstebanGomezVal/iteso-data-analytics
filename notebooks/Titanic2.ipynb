{
 "cells": [
  {
   "cell_type": "markdown",
   "metadata": {},
   "source": [
    "# Actividad 2 - Titanic"
   ]
  },
  {
   "cell_type": "markdown",
   "metadata": {},
   "source": [
    "### Bibliotecas"
   ]
  },
  {
   "cell_type": "code",
   "execution_count": 1,
   "metadata": {},
   "outputs": [
    {
     "name": "stdout",
     "output_type": "stream",
     "text": [
      "Intel MKL WARNING: Support of Intel(R) Streaming SIMD Extensions 4.2 (Intel(R) SSE4.2) enabled only processors has been deprecated. Intel oneAPI Math Kernel Library 2025.0 will require Intel(R) Advanced Vector Extensions (Intel(R) AVX) instructions.\n",
      "Intel MKL WARNING: Support of Intel(R) Streaming SIMD Extensions 4.2 (Intel(R) SSE4.2) enabled only processors has been deprecated. Intel oneAPI Math Kernel Library 2025.0 will require Intel(R) Advanced Vector Extensions (Intel(R) AVX) instructions.\n"
     ]
    }
   ],
   "source": [
    "import pandas as pd\n",
    "import matplotlib as plt\n",
    "import seaborn as sns"
   ]
  },
  {
   "cell_type": "markdown",
   "metadata": {},
   "source": [
    "### Leer dataset"
   ]
  },
  {
   "cell_type": "code",
   "execution_count": 2,
   "metadata": {},
   "outputs": [],
   "source": [
    "data = (\"../data/raw/Titanic-Dataset.csv\")\n",
    "df = pd.read_csv(data)"
   ]
  },
  {
   "cell_type": "code",
   "execution_count": 3,
   "metadata": {},
   "outputs": [
    {
     "data": {
      "text/html": [
       "<div>\n",
       "<style scoped>\n",
       "    .dataframe tbody tr th:only-of-type {\n",
       "        vertical-align: middle;\n",
       "    }\n",
       "\n",
       "    .dataframe tbody tr th {\n",
       "        vertical-align: top;\n",
       "    }\n",
       "\n",
       "    .dataframe thead th {\n",
       "        text-align: right;\n",
       "    }\n",
       "</style>\n",
       "<table border=\"1\" class=\"dataframe\">\n",
       "  <thead>\n",
       "    <tr style=\"text-align: right;\">\n",
       "      <th></th>\n",
       "      <th>PassengerId</th>\n",
       "      <th>Survived</th>\n",
       "      <th>Pclass</th>\n",
       "      <th>Name</th>\n",
       "      <th>Sex</th>\n",
       "      <th>Age</th>\n",
       "      <th>SibSp</th>\n",
       "      <th>Parch</th>\n",
       "      <th>Ticket</th>\n",
       "      <th>Fare</th>\n",
       "      <th>Cabin</th>\n",
       "      <th>Embarked</th>\n",
       "    </tr>\n",
       "  </thead>\n",
       "  <tbody>\n",
       "    <tr>\n",
       "      <th>0</th>\n",
       "      <td>1</td>\n",
       "      <td>0</td>\n",
       "      <td>3</td>\n",
       "      <td>Braund, Mr. Owen Harris</td>\n",
       "      <td>male</td>\n",
       "      <td>22.0</td>\n",
       "      <td>1</td>\n",
       "      <td>0</td>\n",
       "      <td>A/5 21171</td>\n",
       "      <td>7.2500</td>\n",
       "      <td>NaN</td>\n",
       "      <td>S</td>\n",
       "    </tr>\n",
       "    <tr>\n",
       "      <th>1</th>\n",
       "      <td>2</td>\n",
       "      <td>1</td>\n",
       "      <td>1</td>\n",
       "      <td>Cumings, Mrs. John Bradley (Florence Briggs Th...</td>\n",
       "      <td>female</td>\n",
       "      <td>38.0</td>\n",
       "      <td>1</td>\n",
       "      <td>0</td>\n",
       "      <td>PC 17599</td>\n",
       "      <td>71.2833</td>\n",
       "      <td>C85</td>\n",
       "      <td>C</td>\n",
       "    </tr>\n",
       "    <tr>\n",
       "      <th>2</th>\n",
       "      <td>3</td>\n",
       "      <td>1</td>\n",
       "      <td>3</td>\n",
       "      <td>Heikkinen, Miss. Laina</td>\n",
       "      <td>female</td>\n",
       "      <td>26.0</td>\n",
       "      <td>0</td>\n",
       "      <td>0</td>\n",
       "      <td>STON/O2. 3101282</td>\n",
       "      <td>7.9250</td>\n",
       "      <td>NaN</td>\n",
       "      <td>S</td>\n",
       "    </tr>\n",
       "    <tr>\n",
       "      <th>3</th>\n",
       "      <td>4</td>\n",
       "      <td>1</td>\n",
       "      <td>1</td>\n",
       "      <td>Futrelle, Mrs. Jacques Heath (Lily May Peel)</td>\n",
       "      <td>female</td>\n",
       "      <td>35.0</td>\n",
       "      <td>1</td>\n",
       "      <td>0</td>\n",
       "      <td>113803</td>\n",
       "      <td>53.1000</td>\n",
       "      <td>C123</td>\n",
       "      <td>S</td>\n",
       "    </tr>\n",
       "    <tr>\n",
       "      <th>4</th>\n",
       "      <td>5</td>\n",
       "      <td>0</td>\n",
       "      <td>3</td>\n",
       "      <td>Allen, Mr. William Henry</td>\n",
       "      <td>male</td>\n",
       "      <td>35.0</td>\n",
       "      <td>0</td>\n",
       "      <td>0</td>\n",
       "      <td>373450</td>\n",
       "      <td>8.0500</td>\n",
       "      <td>NaN</td>\n",
       "      <td>S</td>\n",
       "    </tr>\n",
       "  </tbody>\n",
       "</table>\n",
       "</div>"
      ],
      "text/plain": [
       "   PassengerId  Survived  Pclass  \\\n",
       "0            1         0       3   \n",
       "1            2         1       1   \n",
       "2            3         1       3   \n",
       "3            4         1       1   \n",
       "4            5         0       3   \n",
       "\n",
       "                                                Name     Sex   Age  SibSp  \\\n",
       "0                            Braund, Mr. Owen Harris    male  22.0      1   \n",
       "1  Cumings, Mrs. John Bradley (Florence Briggs Th...  female  38.0      1   \n",
       "2                             Heikkinen, Miss. Laina  female  26.0      0   \n",
       "3       Futrelle, Mrs. Jacques Heath (Lily May Peel)  female  35.0      1   \n",
       "4                           Allen, Mr. William Henry    male  35.0      0   \n",
       "\n",
       "   Parch            Ticket     Fare Cabin Embarked  \n",
       "0      0         A/5 21171   7.2500   NaN        S  \n",
       "1      0          PC 17599  71.2833   C85        C  \n",
       "2      0  STON/O2. 3101282   7.9250   NaN        S  \n",
       "3      0            113803  53.1000  C123        S  \n",
       "4      0            373450   8.0500   NaN        S  "
      ]
     },
     "execution_count": 3,
     "metadata": {},
     "output_type": "execute_result"
    }
   ],
   "source": [
    "df.head()"
   ]
  },
  {
   "cell_type": "markdown",
   "metadata": {},
   "source": [
    "### Sobrevivientes y fallecidos"
   ]
  },
  {
   "cell_type": "code",
   "execution_count": 4,
   "metadata": {},
   "outputs": [
    {
     "name": "stdout",
     "output_type": "stream",
     "text": [
      "Al Titanic abordaron 891 pasajeros de los cuales sobrevivieron 342 personas y fallecieron 549\n"
     ]
    }
   ],
   "source": [
    "cantidad = df[\"PassengerId\"].count()\n",
    "\n",
    "muertos = 0\n",
    "vivos = 0\n",
    "for i in df['Survived']:\n",
    "    if i == 0:\n",
    "        muertos += 1\n",
    "    if i == 1:\n",
    "        vivos += 1\n",
    "print(\"Al Titanic abordaron\", cantidad, \"pasajeros\", \"de los cuales sobrevivieron\", vivos, \"personas y fallecieron\", muertos)"
   ]
  },
  {
   "cell_type": "markdown",
   "metadata": {},
   "source": [
    "### Media, Mediana y moda del boleto"
   ]
  },
  {
   "cell_type": "code",
   "execution_count": 5,
   "metadata": {},
   "outputs": [
    {
     "name": "stdout",
     "output_type": "stream",
     "text": [
      "La media del costo de los tickets es 32.204207968574636\n",
      "La mediana del costo de los tickets es 14.4542\n",
      "La moda del costo de los tickets es 0    8.05\n",
      "Name: Fare, dtype: float64\n"
     ]
    }
   ],
   "source": [
    "mean = df[\"Fare\"].mean()\n",
    "median = df[\"Fare\"].median()\n",
    "mode = df[\"Fare\"].mode()\n",
    "\n",
    "print(\"La media del costo de los tickets es\",mean)\n",
    "print(\"La mediana del costo de los tickets es\",median)\n",
    "print(\"La moda del costo de los tickets es\",mode)"
   ]
  },
  {
   "cell_type": "markdown",
   "metadata": {},
   "source": [
    "### Pagos de boleto (Valores atípicos / Anomalías)"
   ]
  },
  {
   "cell_type": "code",
   "execution_count": 6,
   "metadata": {},
   "outputs": [
    {
     "name": "stdout",
     "output_type": "stream",
     "text": [
      "0.25     7.9104\n",
      "0.75    31.0000\n",
      "Name: Fare, dtype: float64\n"
     ]
    }
   ],
   "source": [
    "cuartiles = df[\"Fare\"].quantile([0.25, 0.75])\n",
    "print(cuartiles)"
   ]
  },
  {
   "cell_type": "code",
   "execution_count": 7,
   "metadata": {},
   "outputs": [
    {
     "data": {
      "text/plain": [
       "23.0896"
      ]
     },
     "execution_count": 7,
     "metadata": {},
     "output_type": "execute_result"
    }
   ],
   "source": [
    "range_inter = df[\"Fare\"].quantile(0.75) - df[\"Fare\"].quantile(0.25)\n",
    "range_inter"
   ]
  },
  {
   "cell_type": "code",
   "execution_count": 8,
   "metadata": {},
   "outputs": [
    {
     "name": "stdout",
     "output_type": "stream",
     "text": [
      "-26.724\n",
      "65.6344\n"
     ]
    }
   ],
   "source": [
    "atipicos_menores = (df[\"Fare\"].quantile(0.25)) - range_inter * 1.5\n",
    "atipicos_mayores = (df[\"Fare\"].quantile(0.75)) + range_inter * 1.5\n",
    "print(atipicos_menores)\n",
    "print(atipicos_mayores)\n"
   ]
  },
  {
   "cell_type": "code",
   "execution_count": 9,
   "metadata": {},
   "outputs": [
    {
     "name": "stdout",
     "output_type": "stream",
     "text": [
      "71.2833\n",
      "263.0\n",
      "146.5208\n",
      "82.1708\n",
      "76.7292\n",
      "80.0\n",
      "83.475\n",
      "73.5\n",
      "263.0\n",
      "77.2875\n",
      "247.5208\n",
      "73.5\n",
      "77.2875\n",
      "79.2\n",
      "66.6\n",
      "69.55\n",
      "69.55\n",
      "146.5208\n",
      "69.55\n",
      "113.275\n",
      "76.2917\n",
      "90.0\n",
      "83.475\n",
      "90.0\n",
      "79.2\n",
      "86.5\n",
      "512.3292\n",
      "79.65\n",
      "153.4625\n",
      "135.6333\n",
      "77.9583\n",
      "78.85\n",
      "91.0792\n",
      "151.55\n",
      "247.5208\n",
      "151.55\n",
      "110.8833\n",
      "108.9\n",
      "83.1583\n",
      "262.375\n",
      "164.8667\n",
      "134.5\n",
      "69.55\n",
      "135.6333\n",
      "153.4625\n",
      "133.65\n",
      "66.6\n",
      "134.5\n",
      "263.0\n",
      "75.25\n",
      "69.3\n",
      "135.6333\n",
      "82.1708\n",
      "211.5\n",
      "227.525\n",
      "73.5\n",
      "120.0\n",
      "113.275\n",
      "90.0\n",
      "120.0\n",
      "263.0\n",
      "81.8583\n",
      "89.1042\n",
      "91.0792\n",
      "90.0\n",
      "78.2667\n",
      "151.55\n",
      "86.5\n",
      "108.9\n",
      "93.5\n",
      "221.7792\n",
      "106.425\n",
      "71.0\n",
      "106.425\n",
      "110.8833\n",
      "227.525\n",
      "79.65\n",
      "110.8833\n",
      "79.65\n",
      "79.2\n",
      "78.2667\n",
      "153.4625\n",
      "77.9583\n",
      "69.3\n",
      "76.7292\n",
      "73.5\n",
      "113.275\n",
      "133.65\n",
      "73.5\n",
      "512.3292\n",
      "76.7292\n",
      "211.3375\n",
      "110.8833\n",
      "227.525\n",
      "151.55\n",
      "227.525\n",
      "211.3375\n",
      "512.3292\n",
      "78.85\n",
      "262.375\n",
      "71.0\n",
      "86.5\n",
      "120.0\n",
      "77.9583\n",
      "211.3375\n",
      "79.2\n",
      "69.55\n",
      "120.0\n",
      "93.5\n",
      "80.0\n",
      "83.1583\n",
      "69.55\n",
      "89.1042\n",
      "164.8667\n",
      "69.55\n",
      "83.1583\n"
     ]
    }
   ],
   "source": [
    "for i in df[\"Fare\"]:\n",
    "    if i > atipicos_mayores:\n",
    "        print(i)"
   ]
  },
  {
   "cell_type": "code",
   "execution_count": 10,
   "metadata": {},
   "outputs": [
    {
     "name": "stdout",
     "output_type": "stream",
     "text": [
      "116 personas pagaron por boletos con un precio exagerado\n"
     ]
    }
   ],
   "source": [
    "atipicos = 0\n",
    "for i in df[\"Fare\"]:\n",
    "    if i > atipicos_mayores:\n",
    "        atipicos += 1\n",
    "print(atipicos, \"personas pagaron por boletos con un precio exagerado\")"
   ]
  },
  {
   "cell_type": "code",
   "execution_count": 11,
   "metadata": {},
   "outputs": [
    {
     "data": {
      "text/plain": [
       "<Axes: >"
      ]
     },
     "execution_count": 11,
     "metadata": {},
     "output_type": "execute_result"
    },
    {
     "data": {
      "image/png": "[encoded data removed]",
      "text/plain": [
       "<Figure size 640x480 with 1 Axes>"
      ]
     },
     "metadata": {},
     "output_type": "display_data"
    }
   ],
   "source": [
    "df[\"Fare\"].plot(kind = \"box\")"
   ]
  },
  {
   "cell_type": "markdown",
   "metadata": {},
   "source": [
    "### Varianza de edades"
   ]
  },
  {
   "cell_type": "code",
   "execution_count": 12,
   "metadata": {},
   "outputs": [
    {
     "name": "stdout",
     "output_type": "stream",
     "text": [
      "La varianza de edades de los pasajeros del Titanic es de 211.0191247463081 lo que nos da una gran dispersión de edades entre los pasajeros\n"
     ]
    }
   ],
   "source": [
    "varianza = df[\"Age\"].var()\n",
    "print(\"La varianza de edades de los pasajeros del Titanic es de\", varianza, \"lo que nos da una gran dispersión de edades entre los pasajeros\")"
   ]
  },
  {
   "cell_type": "code",
   "execution_count": 13,
   "metadata": {},
   "outputs": [
    {
     "name": "stdout",
     "output_type": "stream",
     "text": [
      "Abordaron 0 personas con edades exageradamente menores\n",
      "Abordaron 11 personas con edades exageradamente mayores\n"
     ]
    }
   ],
   "source": [
    "range_inter1 = df[\"Age\"].quantile(0.75) - df[\"Age\"].quantile(0.25)\n",
    "\n",
    "atipicos_menores1 = (df[\"Age\"].quantile(0.25)) - range_inter1 * 1.5\n",
    "atipicos_mayores1 = (df[\"Age\"].quantile(0.75)) + range_inter1 * 1.5\n",
    "\n",
    "edades_mayores = 0\n",
    "for i in df[\"Age\"]:\n",
    "    if i > atipicos_mayores1:\n",
    "        edades_mayores += 1\n",
    "\n",
    "edades_menores = 0\n",
    "for i in df[\"Age\"]:\n",
    "    if i < atipicos_menores1:\n",
    "        edades_menores += 1\n",
    "\n",
    "print(\"Abordaron\", edades_menores, \"personas con edades exageradamente menores\")\n",
    "print(\"Abordaron\", edades_mayores, \"personas con edades exageradamente mayores\")"
   ]
  },
  {
   "cell_type": "code",
   "execution_count": 14,
   "metadata": {},
   "outputs": [
    {
     "data": {
      "text/plain": [
       "<Axes: >"
      ]
     },
     "execution_count": 14,
     "metadata": {},
     "output_type": "execute_result"
    },
    {
     "data": {
      "image/png": "[encoded data removed]",
      "text/plain": [
       "<Figure size 640x480 with 1 Axes>"
      ]
     },
     "metadata": {},
     "output_type": "display_data"
    }
   ],
   "source": [
    "df[\"Age\"].plot(kind = \"box\")"
   ]
  },
  {
   "cell_type": "markdown",
   "metadata": {},
   "source": [
    "### Probabilidad de sobrevivir entre mujer de 40 y hombre de 70"
   ]
  },
  {
   "cell_type": "code",
   "execution_count": 15,
   "metadata": {},
   "outputs": [
    {
     "name": "stdout",
     "output_type": "stream",
     "text": [
      "0.0\n",
      "0.8333333333333334\n",
      "La probabilidad de que una mujer de 40 años sobreviva es mayor a la de un hombre de 70 años\n"
     ]
    }
   ],
   "source": [
    "H70 = df[(df[\"Sex\"] == 'male') & (df['Age'] == 70)]\n",
    "M40 = df[(df[\"Sex\"] == 'female') & (df['Age'] == 40)]\n",
    "\n",
    "meanH70 = H70[\"Survived\"].mean()\n",
    "meanM40 = M40[\"Survived\"].mean()\n",
    "\n",
    "print(meanH70)\n",
    "print(meanM40)\n",
    "print(\"La probabilidad de que una mujer de 40 años sobreviva es mayor a la de un hombre de 70 años\")"
   ]
  },
  {
   "cell_type": "code",
   "execution_count": 16,
   "metadata": {},
   "outputs": [
    {
     "data": {
      "text/plain": [
       "'Es más probable '"
      ]
     },
     "execution_count": 16,
     "metadata": {},
     "output_type": "execute_result"
    }
   ],
   "source": [
    "\"Es más probable \""
   ]
  },
  {
   "cell_type": "markdown",
   "metadata": {},
   "source": [
    "### Distribución de edades con respecto a si sobrevivió o no el pasajero"
   ]
  },
  {
   "cell_type": "code",
   "execution_count": 17,
   "metadata": {},
   "outputs": [
    {
     "data": {
      "text/html": [
       "<div>\n",
       "<style scoped>\n",
       "    .dataframe tbody tr th:only-of-type {\n",
       "        vertical-align: middle;\n",
       "    }\n",
       "\n",
       "    .dataframe tbody tr th {\n",
       "        vertical-align: top;\n",
       "    }\n",
       "\n",
       "    .dataframe thead th {\n",
       "        text-align: right;\n",
       "    }\n",
       "</style>\n",
       "<table border=\"1\" class=\"dataframe\">\n",
       "  <thead>\n",
       "    <tr style=\"text-align: right;\">\n",
       "      <th></th>\n",
       "      <th>Age</th>\n",
       "      <th>Survived</th>\n",
       "    </tr>\n",
       "  </thead>\n",
       "  <tbody>\n",
       "    <tr>\n",
       "      <th>0</th>\n",
       "      <td>22.0</td>\n",
       "      <td>0</td>\n",
       "    </tr>\n",
       "    <tr>\n",
       "      <th>1</th>\n",
       "      <td>38.0</td>\n",
       "      <td>1</td>\n",
       "    </tr>\n",
       "    <tr>\n",
       "      <th>2</th>\n",
       "      <td>26.0</td>\n",
       "      <td>1</td>\n",
       "    </tr>\n",
       "    <tr>\n",
       "      <th>3</th>\n",
       "      <td>35.0</td>\n",
       "      <td>1</td>\n",
       "    </tr>\n",
       "    <tr>\n",
       "      <th>4</th>\n",
       "      <td>35.0</td>\n",
       "      <td>0</td>\n",
       "    </tr>\n",
       "  </tbody>\n",
       "</table>\n",
       "</div>"
      ],
      "text/plain": [
       "    Age  Survived\n",
       "0  22.0         0\n",
       "1  38.0         1\n",
       "2  26.0         1\n",
       "3  35.0         1\n",
       "4  35.0         0"
      ]
     },
     "execution_count": 17,
     "metadata": {},
     "output_type": "execute_result"
    }
   ],
   "source": [
    "df_edad = df[[\"Age\", \"Survived\"]]\n",
    "df_edad.head()"
   ]
  },
  {
   "cell_type": "code",
   "execution_count": 18,
   "metadata": {},
   "outputs": [
    {
     "name": "stderr",
     "output_type": "stream",
     "text": [
      "/Users/egmzvalerio/anaconda3/envs/iteso/lib/python3.12/site-packages/seaborn/_oldcore.py:1119: FutureWarning: use_inf_as_na option is deprecated and will be removed in a future version. Convert inf values to NaN before operating instead.\n",
      "  with pd.option_context('mode.use_inf_as_na', True):\n",
      "/Users/egmzvalerio/anaconda3/envs/iteso/lib/python3.12/site-packages/seaborn/_oldcore.py:1119: FutureWarning: use_inf_as_na option is deprecated and will be removed in a future version. Convert inf values to NaN before operating instead.\n",
      "  with pd.option_context('mode.use_inf_as_na', True):\n"
     ]
    },
    {
     "data": {
      "text/plain": [
       "<seaborn.axisgrid.PairGrid at 0x14edb1730>"
      ]
     },
     "execution_count": 18,
     "metadata": {},
     "output_type": "execute_result"
    },
    {
     "data": {
      "image/png": "[encoded data removed]",
      "text/plain": [
       "<Figure size 500x500 with 6 Axes>"
      ]
     },
     "metadata": {},
     "output_type": "display_data"
    }
   ],
   "source": [
    "sns.pairplot(df_edad)"
   ]
  },
  {
   "cell_type": "code",
   "execution_count": 19,
   "metadata": {},
   "outputs": [
    {
     "name": "stdout",
     "output_type": "stream",
     "text": [
      "Podemos observar que en el suceso del Titanic fallecieron personas de todas las edades\n"
     ]
    }
   ],
   "source": [
    "print(\"Podemos observar que en el suceso del Titanic fallecieron personas de todas las edades\")"
   ]
  },
  {
   "cell_type": "markdown",
   "metadata": {},
   "source": [
    "### Distribución de sexo con respecto a si sobrevivió o no el pasajero"
   ]
  },
  {
   "cell_type": "code",
   "execution_count": 20,
   "metadata": {},
   "outputs": [
    {
     "data": {
      "text/html": [
       "<div>\n",
       "<style scoped>\n",
       "    .dataframe tbody tr th:only-of-type {\n",
       "        vertical-align: middle;\n",
       "    }\n",
       "\n",
       "    .dataframe tbody tr th {\n",
       "        vertical-align: top;\n",
       "    }\n",
       "\n",
       "    .dataframe thead th {\n",
       "        text-align: right;\n",
       "    }\n",
       "</style>\n",
       "<table border=\"1\" class=\"dataframe\">\n",
       "  <thead>\n",
       "    <tr style=\"text-align: right;\">\n",
       "      <th></th>\n",
       "      <th>Sex</th>\n",
       "      <th>Survived</th>\n",
       "    </tr>\n",
       "  </thead>\n",
       "  <tbody>\n",
       "    <tr>\n",
       "      <th>0</th>\n",
       "      <td>male</td>\n",
       "      <td>0</td>\n",
       "    </tr>\n",
       "    <tr>\n",
       "      <th>1</th>\n",
       "      <td>female</td>\n",
       "      <td>1</td>\n",
       "    </tr>\n",
       "    <tr>\n",
       "      <th>2</th>\n",
       "      <td>female</td>\n",
       "      <td>1</td>\n",
       "    </tr>\n",
       "    <tr>\n",
       "      <th>3</th>\n",
       "      <td>female</td>\n",
       "      <td>1</td>\n",
       "    </tr>\n",
       "    <tr>\n",
       "      <th>4</th>\n",
       "      <td>male</td>\n",
       "      <td>0</td>\n",
       "    </tr>\n",
       "  </tbody>\n",
       "</table>\n",
       "</div>"
      ],
      "text/plain": [
       "      Sex  Survived\n",
       "0    male         0\n",
       "1  female         1\n",
       "2  female         1\n",
       "3  female         1\n",
       "4    male         0"
      ]
     },
     "execution_count": 20,
     "metadata": {},
     "output_type": "execute_result"
    }
   ],
   "source": [
    "df_sexo = df[[\"Sex\", \"Survived\"]]\n",
    "df_sexo.head()"
   ]
  },
  {
   "cell_type": "code",
   "execution_count": 21,
   "metadata": {},
   "outputs": [
    {
     "name": "stdout",
     "output_type": "stream",
     "text": [
      "Al Titanic abordaron 314 mujeres y 577 hombres\n"
     ]
    }
   ],
   "source": [
    "hombre = 0\n",
    "mujer = 0\n",
    "\n",
    "for i in df[\"Sex\"]:\n",
    "    if i == \"female\":\n",
    "        mujer += 1\n",
    "    else:\n",
    "        hombre += 1\n",
    "\n",
    "print(\"Al Titanic abordaron\", mujer, \"mujeres y\", hombre, \"hombres\")"
   ]
  },
  {
   "cell_type": "code",
   "execution_count": 22,
   "metadata": {},
   "outputs": [
    {
     "name": "stderr",
     "output_type": "stream",
     "text": [
      "/Users/egmzvalerio/anaconda3/envs/iteso/lib/python3.12/site-packages/seaborn/_oldcore.py:1119: FutureWarning: use_inf_as_na option is deprecated and will be removed in a future version. Convert inf values to NaN before operating instead.\n",
      "  with pd.option_context('mode.use_inf_as_na', True):\n"
     ]
    },
    {
     "data": {
      "text/plain": [
       "<seaborn.axisgrid.PairGrid at 0x14eedb020>"
      ]
     },
     "execution_count": 22,
     "metadata": {},
     "output_type": "execute_result"
    },
    {
     "data": {
      "image/png": "[encoded data removed]",
      "text/plain": [
       "<Figure size 286.361x250 with 2 Axes>"
      ]
     },
     "metadata": {},
     "output_type": "display_data"
    }
   ],
   "source": [
    "sns.pairplot(df_sexo, hue = \"Sex\")"
   ]
  },
  {
   "cell_type": "code",
   "execution_count": 23,
   "metadata": {},
   "outputs": [
    {
     "name": "stdout",
     "output_type": "stream",
     "text": [
      "Podemos observar que en el Titanic la mayor cantidad de fallecidos fueron hombres\n",
      "Podemos también observar que sobrevivieron más mujeres de las que fallecieron\n"
     ]
    }
   ],
   "source": [
    "print(\"Podemos observar que en el Titanic la mayor cantidad de fallecidos fueron hombres\")\n",
    "print(\"Podemos también observar que sobrevivieron más mujeres de las que fallecieron\")"
   ]
  },
  {
   "cell_type": "code",
   "execution_count": 24,
   "metadata": {},
   "outputs": [
    {
     "name": "stdout",
     "output_type": "stream",
     "text": [
      "En el Titanic fallecieron 468 hombres y 81 mujeres\n",
      "sobrevivieron 109 hombres y 233 mujeres\n"
     ]
    }
   ],
   "source": [
    "HF = df[(df[\"Sex\"] == 'male') & (df['Survived'] == 0)]\n",
    "HF1 = HF['Survived'].count()\n",
    "MF = df[(df[\"Sex\"] == 'female') & (df['Survived'] == 0)]\n",
    "MF1 = MF['Survived'].count()\n",
    "HS = df[(df[\"Sex\"] == 'male') & (df['Survived'] == 1)]\n",
    "HS1 = HS['Survived'].count()\n",
    "MS = df[(df[\"Sex\"] == 'female') & (df['Survived'] == 1)]\n",
    "MS1 = MS['Survived'].count()\n",
    "\n",
    "print(\"En el Titanic fallecieron\", HF1, \"hombres y\", MF1, \"mujeres\")\n",
    "print(\"sobrevivieron\", HS1, \"hombres y\", MS1, \"mujeres\")\n"
   ]
  }
 ],
 "metadata": {
  "kernelspec": {
   "display_name": "iteso",
   "language": "python",
   "name": "python3"
  },
  "language_info": {
   "codemirror_mode": {
    "name": "ipython",
    "version": 3
   },
   "file_extension": ".py",
   "mimetype": "text/x-python",
   "name": "python",
   "nbconvert_exporter": "python",
   "pygments_lexer": "ipython3",
   "version": "3.12.1"
  }
 },
 "nbformat": 4,
 "nbformat_minor": 2
}
