{
 "cells": [
  {
   "cell_type": "markdown",
   "metadata": {},
   "source": [
    "# Proyecto 1"
   ]
  },
  {
   "cell_type": "markdown",
   "metadata": {},
   "source": [
    "### Definición del Problema"
   ]
  },
  {
   "cell_type": "markdown",
   "metadata": {},
   "source": [
    "Este proyecto tiene como propósito ser una herramienta para desarrollar un modelo predictivo que apoye a la toma de decisiones que ayuden a mejorar la detección temprana y el manejo de enfermedades cardíacas basandonos en varios pacientes de distintas edades, esto potencialmente puede salvar vidas y mejorar la calidad de vida de los pacientes para futuros pacientes."
   ]
  },
  {
   "cell_type": "markdown",
   "metadata": {},
   "source": [
    "Al predecir la presencia de enfermedades cardíacas y comprender los factores de riesgo de casos pasados, los profesionales de la salud pueden intervenir de manera más efectiva para prevenir, detectar y tratar enfermedades, lo que potencialmente puede salvar vidas y mejorar la calidad de vida de las personas afectadas."
   ]
  },
  {
   "cell_type": "markdown",
   "metadata": {},
   "source": [
    "### Recolección y Preparación de Datos"
   ]
  },
  {
   "cell_type": "markdown",
   "metadata": {},
   "source": [
    "La base de datos viene de Kaggle"
   ]
  },
  {
   "cell_type": "code",
   "execution_count": 136,
   "metadata": {},
   "outputs": [
    {
     "name": "stdout",
     "output_type": "stream",
     "text": [
      "Requirement already satisfied: matplotlib in /Users/egmzvalerio/anaconda3/envs/iteso/lib/python3.12/site-packages (3.8.0)\n",
      "Requirement already satisfied: contourpy>=1.0.1 in /Users/egmzvalerio/anaconda3/envs/iteso/lib/python3.12/site-packages (from matplotlib) (1.2.0)\n",
      "Requirement already satisfied: cycler>=0.10 in /Users/egmzvalerio/anaconda3/envs/iteso/lib/python3.12/site-packages (from matplotlib) (0.11.0)\n",
      "Requirement already satisfied: fonttools>=4.22.0 in /Users/egmzvalerio/anaconda3/envs/iteso/lib/python3.12/site-packages (from matplotlib) (4.48.1)\n",
      "Requirement already satisfied: kiwisolver>=1.0.1 in /Users/egmzvalerio/anaconda3/envs/iteso/lib/python3.12/site-packages (from matplotlib) (1.4.5)\n",
      "Requirement already satisfied: numpy<2,>=1.21 in /Users/egmzvalerio/anaconda3/envs/iteso/lib/python3.12/site-packages (from matplotlib) (1.26.3)\n",
      "Requirement already satisfied: packaging>=20.0 in /Users/egmzvalerio/anaconda3/envs/iteso/lib/python3.12/site-packages (from matplotlib) (23.1)\n",
      "Requirement already satisfied: pillow>=6.2.0 in /Users/egmzvalerio/anaconda3/envs/iteso/lib/python3.12/site-packages (from matplotlib) (10.2.0)\n",
      "Requirement already satisfied: pyparsing>=2.3.1 in /Users/egmzvalerio/anaconda3/envs/iteso/lib/python3.12/site-packages (from matplotlib) (3.1.1)\n",
      "Requirement already satisfied: python-dateutil>=2.7 in /Users/egmzvalerio/anaconda3/envs/iteso/lib/python3.12/site-packages (from matplotlib) (2.8.2)\n",
      "Requirement already satisfied: six>=1.5 in /Users/egmzvalerio/anaconda3/envs/iteso/lib/python3.12/site-packages (from python-dateutil>=2.7->matplotlib) (1.16.0)\n"
     ]
    }
   ],
   "source": [
    "!pip install matplotlib\n",
    "import pandas as pd\n",
    "import matplotlib as plt"
   ]
  },
  {
   "cell_type": "code",
   "execution_count": 137,
   "metadata": {},
   "outputs": [
    {
     "data": {
      "text/html": [
       "<div>\n",
       "<style scoped>\n",
       "    .dataframe tbody tr th:only-of-type {\n",
       "        vertical-align: middle;\n",
       "    }\n",
       "\n",
       "    .dataframe tbody tr th {\n",
       "        vertical-align: top;\n",
       "    }\n",
       "\n",
       "    .dataframe thead th {\n",
       "        text-align: right;\n",
       "    }\n",
       "</style>\n",
       "<table border=\"1\" class=\"dataframe\">\n",
       "  <thead>\n",
       "    <tr style=\"text-align: right;\">\n",
       "      <th></th>\n",
       "      <th>age</th>\n",
       "      <th>sex</th>\n",
       "      <th>cp</th>\n",
       "      <th>trestbps</th>\n",
       "      <th>chol</th>\n",
       "      <th>fbs</th>\n",
       "      <th>restecg</th>\n",
       "      <th>thalach</th>\n",
       "      <th>exang</th>\n",
       "      <th>oldpeak</th>\n",
       "      <th>slope</th>\n",
       "      <th>ca</th>\n",
       "      <th>thal</th>\n",
       "      <th>target</th>\n",
       "    </tr>\n",
       "  </thead>\n",
       "  <tbody>\n",
       "    <tr>\n",
       "      <th>0</th>\n",
       "      <td>52</td>\n",
       "      <td>1</td>\n",
       "      <td>0</td>\n",
       "      <td>125</td>\n",
       "      <td>212</td>\n",
       "      <td>0</td>\n",
       "      <td>1</td>\n",
       "      <td>168</td>\n",
       "      <td>0</td>\n",
       "      <td>1.0</td>\n",
       "      <td>2</td>\n",
       "      <td>2</td>\n",
       "      <td>3</td>\n",
       "      <td>0</td>\n",
       "    </tr>\n",
       "    <tr>\n",
       "      <th>1</th>\n",
       "      <td>53</td>\n",
       "      <td>1</td>\n",
       "      <td>0</td>\n",
       "      <td>140</td>\n",
       "      <td>203</td>\n",
       "      <td>1</td>\n",
       "      <td>0</td>\n",
       "      <td>155</td>\n",
       "      <td>1</td>\n",
       "      <td>3.1</td>\n",
       "      <td>0</td>\n",
       "      <td>0</td>\n",
       "      <td>3</td>\n",
       "      <td>0</td>\n",
       "    </tr>\n",
       "    <tr>\n",
       "      <th>2</th>\n",
       "      <td>70</td>\n",
       "      <td>1</td>\n",
       "      <td>0</td>\n",
       "      <td>145</td>\n",
       "      <td>174</td>\n",
       "      <td>0</td>\n",
       "      <td>1</td>\n",
       "      <td>125</td>\n",
       "      <td>1</td>\n",
       "      <td>2.6</td>\n",
       "      <td>0</td>\n",
       "      <td>0</td>\n",
       "      <td>3</td>\n",
       "      <td>0</td>\n",
       "    </tr>\n",
       "    <tr>\n",
       "      <th>3</th>\n",
       "      <td>61</td>\n",
       "      <td>1</td>\n",
       "      <td>0</td>\n",
       "      <td>148</td>\n",
       "      <td>203</td>\n",
       "      <td>0</td>\n",
       "      <td>1</td>\n",
       "      <td>161</td>\n",
       "      <td>0</td>\n",
       "      <td>0.0</td>\n",
       "      <td>2</td>\n",
       "      <td>1</td>\n",
       "      <td>3</td>\n",
       "      <td>0</td>\n",
       "    </tr>\n",
       "    <tr>\n",
       "      <th>4</th>\n",
       "      <td>62</td>\n",
       "      <td>0</td>\n",
       "      <td>0</td>\n",
       "      <td>138</td>\n",
       "      <td>294</td>\n",
       "      <td>1</td>\n",
       "      <td>1</td>\n",
       "      <td>106</td>\n",
       "      <td>0</td>\n",
       "      <td>1.9</td>\n",
       "      <td>1</td>\n",
       "      <td>3</td>\n",
       "      <td>2</td>\n",
       "      <td>0</td>\n",
       "    </tr>\n",
       "  </tbody>\n",
       "</table>\n",
       "</div>"
      ],
      "text/plain": [
       "   age  sex  cp  trestbps  chol  fbs  restecg  thalach  exang  oldpeak  slope  \\\n",
       "0   52    1   0       125   212    0        1      168      0      1.0      2   \n",
       "1   53    1   0       140   203    1        0      155      1      3.1      0   \n",
       "2   70    1   0       145   174    0        1      125      1      2.6      0   \n",
       "3   61    1   0       148   203    0        1      161      0      0.0      2   \n",
       "4   62    0   0       138   294    1        1      106      0      1.9      1   \n",
       "\n",
       "   ca  thal  target  \n",
       "0   2     3       0  \n",
       "1   0     3       0  \n",
       "2   0     3       0  \n",
       "3   1     3       0  \n",
       "4   3     2       0  "
      ]
     },
     "execution_count": 137,
     "metadata": {},
     "output_type": "execute_result"
    }
   ],
   "source": [
    "data = \"../data/raw/heart 2.csv\"\n",
    "df = pd.read_csv(data)\n",
    "df.head()"
   ]
  },
  {
   "cell_type": "markdown",
   "metadata": {},
   "source": [
    "Los datos vienen de cuatro datasets de países distintos los cuales son Cleveland, Hungría, Suiza y Long Beach V, a esta base de datos se accede mediante la función \"read csv\" para crear un DataFrame de dichos datos, donde cada columna representa:\n",
    "\n",
    "- Edad\n",
    "- Sexo\n",
    "- Tipo de dolor en el pecho (4 valores)\n",
    "- Presión arterial en reposo\n",
    "- Colesterol sérico en mg/dl\n",
    "- Azúcar en sangre en ayunas > 120 mg/dl\n",
    "- Resultados electrocardiográficos en reposo (valores 0, 1, 2)\n",
    "- Frecuencia cardíaca máxima alcanzada\n",
    "- Angina inducida por ejercicio\n",
    "- Depresión del segmento ST inducida por ejercicio en relación al reposo\n",
    "- La pendiente del segmento ST del ejercicio máximo\n",
    "- Número de vasos principales (0-3) coloreados por fluoroscopia\n",
    "- Thal: 0 = normal; 1 = defecto fijo; 2 = defecto reversible"
   ]
  },
  {
   "cell_type": "code",
   "execution_count": 138,
   "metadata": {},
   "outputs": [
    {
     "data": {
      "text/plain": [
       "age         0\n",
       "sex         0\n",
       "cp          0\n",
       "trestbps    0\n",
       "chol        0\n",
       "fbs         0\n",
       "restecg     0\n",
       "thalach     0\n",
       "exang       0\n",
       "oldpeak     0\n",
       "slope       0\n",
       "ca          0\n",
       "thal        0\n",
       "target      0\n",
       "dtype: int64"
      ]
     },
     "execution_count": 138,
     "metadata": {},
     "output_type": "execute_result"
    }
   ],
   "source": [
    "df.isnull().sum()"
   ]
  },
  {
   "cell_type": "markdown",
   "metadata": {},
   "source": [
    "Como podemos observar, en el DataFrame no existen datos faltantes, sin embargo existe una columna inservible"
   ]
  },
  {
   "cell_type": "code",
   "execution_count": 139,
   "metadata": {},
   "outputs": [],
   "source": [
    "df = df.drop('target', axis=1)\n"
   ]
  },
  {
   "cell_type": "markdown",
   "metadata": {},
   "source": [
    "### Análisis Exploratorio de Datos (EDA)"
   ]
  },
  {
   "cell_type": "markdown",
   "metadata": {},
   "source": [
    "**Edad**"
   ]
  },
  {
   "cell_type": "code",
   "execution_count": 140,
   "metadata": {},
   "outputs": [
    {
     "name": "stdout",
     "output_type": "stream",
     "text": [
      "Su mediana es 56.0\n",
      "Su moda es 0    58\n",
      "Name: age, dtype: int64\n",
      "Su curtosis es de -0.5256178128684339\n",
      "Su sesgo es de -0.24886590174584555\n",
      "count    1025.000000\n",
      "mean       54.434146\n",
      "std         9.072290\n",
      "min        29.000000\n",
      "25%        48.000000\n",
      "50%        56.000000\n",
      "75%        61.000000\n",
      "max        77.000000\n",
      "Name: age, dtype: float64\n"
     ]
    }
   ],
   "source": [
    "print('Su mediana es', df['age'].median())\n",
    "print('Su moda es', df['age'].mode())\n",
    "print('Su curtosis es de', df['age'].kurt())\n",
    "print('Su sesgo es de', df['age'].skew())\n",
    "print(df['age'].describe())"
   ]
  },
  {
   "cell_type": "code",
   "execution_count": 141,
   "metadata": {},
   "outputs": [
    {
     "data": {
      "text/plain": [
       "<Axes: ylabel='Frequency'>"
      ]
     },
     "execution_count": 141,
     "metadata": {},
     "output_type": "execute_result"
    },
    {
     "data": {
      "image/png": "[encoded data removed]",
      "text/plain": [
       "<Figure size 640x480 with 1 Axes>"
      ]
     },
     "metadata": {},
     "output_type": "display_data"
    }
   ],
   "source": [
    "df[\"age\"].plot(kind = \"hist\", color = (.13, .02, .24) )"
   ]
  },
  {
   "cell_type": "markdown",
   "metadata": {},
   "source": [
    "**Cantidad de arterias principales**"
   ]
  },
  {
   "cell_type": "code",
   "execution_count": 142,
   "metadata": {},
   "outputs": [
    {
     "name": "stdout",
     "output_type": "stream",
     "text": [
      "Su mediana es 0.0\n",
      "Su moda es 0    0\n",
      "Name: ca, dtype: int64\n",
      "Su curtosis es de 0.7011228657727422\n",
      "Su sesgo es de 1.2611886429097716\n",
      "count    1025.000000\n",
      "mean        0.754146\n",
      "std         1.030798\n",
      "min         0.000000\n",
      "25%         0.000000\n",
      "50%         0.000000\n",
      "75%         1.000000\n",
      "max         4.000000\n",
      "Name: ca, dtype: float64\n"
     ]
    }
   ],
   "source": [
    "print('Su mediana es', df['ca'].median())\n",
    "print('Su moda es', df['ca'].mode())\n",
    "print('Su curtosis es de', df['ca'].kurt())\n",
    "print('Su sesgo es de', df['ca'].skew())\n",
    "print(df['ca'].describe())"
   ]
  },
  {
   "cell_type": "code",
   "execution_count": 143,
   "metadata": {},
   "outputs": [
    {
     "data": {
      "text/plain": [
       "<Axes: ylabel='Frequency'>"
      ]
     },
     "execution_count": 143,
     "metadata": {},
     "output_type": "execute_result"
    },
    {
     "data": {
      "image/png": "[encoded data removed]",
      "text/plain": [
       "<Figure size 640x480 with 1 Axes>"
      ]
     },
     "metadata": {},
     "output_type": "display_data"
    }
   ],
   "source": [
    "df[\"ca\"].plot(kind = \"hist\", color = (.13, .02, .24) )"
   ]
  },
  {
   "cell_type": "markdown",
   "metadata": {},
   "source": [
    "**Colesterol sérico**"
   ]
  },
  {
   "cell_type": "code",
   "execution_count": 144,
   "metadata": {},
   "outputs": [
    {
     "name": "stdout",
     "output_type": "stream",
     "text": [
      "Su mediana es 240.0\n",
      "Su moda es 0    204\n",
      "1    234\n",
      "Name: chol, dtype: int64\n",
      "Su curtosis es de 3.9968030492724647\n",
      "Su sesgo es de 1.0740727783354815\n",
      "count    1025.00000\n",
      "mean      246.00000\n",
      "std        51.59251\n",
      "min       126.00000\n",
      "25%       211.00000\n",
      "50%       240.00000\n",
      "75%       275.00000\n",
      "max       564.00000\n",
      "Name: chol, dtype: float64\n"
     ]
    }
   ],
   "source": [
    "print('Su mediana es', df['chol'].median())\n",
    "print('Su moda es', df['chol'].mode())\n",
    "print('Su curtosis es de', df['chol'].kurt())\n",
    "print('Su sesgo es de', df['chol'].skew())\n",
    "print(df['chol'].describe())"
   ]
  },
  {
   "cell_type": "code",
   "execution_count": 145,
   "metadata": {},
   "outputs": [
    {
     "data": {
      "text/plain": [
       "<Axes: ylabel='Frequency'>"
      ]
     },
     "execution_count": 145,
     "metadata": {},
     "output_type": "execute_result"
    },
    {
     "data": {
      "image/png": "[encoded data removed]",
      "text/plain": [
       "<Figure size 640x480 with 1 Axes>"
      ]
     },
     "metadata": {},
     "output_type": "display_data"
    }
   ],
   "source": [
    "df[\"chol\"].plot(kind = \"hist\", color = (.13, .02, .24) )"
   ]
  },
  {
   "cell_type": "markdown",
   "metadata": {},
   "source": [
    "**Dolor de pecho (0-3)**"
   ]
  },
  {
   "cell_type": "code",
   "execution_count": 146,
   "metadata": {},
   "outputs": [
    {
     "name": "stdout",
     "output_type": "stream",
     "text": [
      "Su mediana es 1.0\n",
      "Su moda es 0    0\n",
      "Name: cp, dtype: int64\n",
      "Su curtosis es de -1.1494995222913056\n",
      "Su sesgo es de 0.5294552058584099\n",
      "count    1025.000000\n",
      "mean        0.942439\n",
      "std         1.029641\n",
      "min         0.000000\n",
      "25%         0.000000\n",
      "50%         1.000000\n",
      "75%         2.000000\n",
      "max         3.000000\n",
      "Name: cp, dtype: float64\n"
     ]
    }
   ],
   "source": [
    "print('Su mediana es', df['cp'].median())\n",
    "print('Su moda es', df['cp'].mode())\n",
    "print('Su curtosis es de', df['cp'].kurt())\n",
    "print('Su sesgo es de', df['cp'].skew())\n",
    "print(df['cp'].describe())"
   ]
  },
  {
   "cell_type": "code",
   "execution_count": 147,
   "metadata": {},
   "outputs": [
    {
     "data": {
      "text/plain": [
       "<Axes: ylabel='Frequency'>"
      ]
     },
     "execution_count": 147,
     "metadata": {},
     "output_type": "execute_result"
    },
    {
     "data": {
      "image/png": "[encoded data removed]",
      "text/plain": [
       "<Figure size 640x480 with 1 Axes>"
      ]
     },
     "metadata": {},
     "output_type": "display_data"
    }
   ],
   "source": [
    "df[\"cp\"].plot(kind = \"hist\", color = (.13, .02, .24) )"
   ]
  },
  {
   "cell_type": "markdown",
   "metadata": {},
   "source": [
    "**Frecuencia cardíaca máxima alcanzada**"
   ]
  },
  {
   "cell_type": "code",
   "execution_count": 148,
   "metadata": {},
   "outputs": [
    {
     "name": "stdout",
     "output_type": "stream",
     "text": [
      "Su mediana es 0.0\n",
      "Su moda es 0    0\n",
      "Name: exang, dtype: int64\n",
      "Su curtosis es de -1.5232047382747014\n",
      "Su sesgo es de 0.692655170469321\n",
      "count    1025.000000\n",
      "mean        0.336585\n",
      "std         0.472772\n",
      "min         0.000000\n",
      "25%         0.000000\n",
      "50%         0.000000\n",
      "75%         1.000000\n",
      "max         1.000000\n",
      "Name: exang, dtype: float64\n"
     ]
    }
   ],
   "source": [
    "print('Su mediana es', df['exang'].median())\n",
    "print('Su moda es', df['exang'].mode())\n",
    "print('Su curtosis es de', df['exang'].kurt())\n",
    "print('Su sesgo es de', df['exang'].skew())\n",
    "print(df['exang'].describe())"
   ]
  },
  {
   "cell_type": "code",
   "execution_count": 157,
   "metadata": {},
   "outputs": [
    {
     "data": {
      "text/plain": [
       "<Axes: ylabel='Frequency'>"
      ]
     },
     "execution_count": 157,
     "metadata": {},
     "output_type": "execute_result"
    },
    {
     "data": {
      "image/png": "[encoded data removed]",
      "text/plain": [
       "<Figure size 640x480 with 1 Axes>"
      ]
     },
     "metadata": {},
     "output_type": "display_data"
    }
   ],
   "source": [
    "df[\"exang\"].plot(kind = \"hist\", bins = 2, rwidth = 0.7, color = (.13, .02, .24) )\n"
   ]
  },
  {
   "cell_type": "markdown",
   "metadata": {},
   "source": [
    "**Azúcar en sangre en ayunas > 120 mg/dl**"
   ]
  },
  {
   "cell_type": "code",
   "execution_count": 150,
   "metadata": {},
   "outputs": [
    {
     "name": "stdout",
     "output_type": "stream",
     "text": [
      "Su mediana es 0.0\n",
      "Su moda es 0    0\n",
      "Name: fbs, dtype: int64\n",
      "Su curtosis es de 1.8898593171743996\n",
      "Su sesgo es de 1.9713385276901942\n",
      "count    1025.000000\n",
      "mean        0.149268\n",
      "std         0.356527\n",
      "min         0.000000\n",
      "25%         0.000000\n",
      "50%         0.000000\n",
      "75%         0.000000\n",
      "max         1.000000\n",
      "Name: fbs, dtype: float64\n"
     ]
    }
   ],
   "source": [
    "print('Su mediana es', df['fbs'].median())\n",
    "print('Su moda es', df['fbs'].mode())\n",
    "print('Su curtosis es de', df['fbs'].kurt())\n",
    "print('Su sesgo es de', df['fbs'].skew())\n",
    "print(df['fbs'].describe())"
   ]
  },
  {
   "cell_type": "markdown",
   "metadata": {},
   "source": [
    "**Depresión del ST inducida por el ejercicio en relación con el reposo**"
   ]
  },
  {
   "cell_type": "code",
   "execution_count": 151,
   "metadata": {},
   "outputs": [
    {
     "name": "stdout",
     "output_type": "stream",
     "text": [
      "Su mediana es 0.8\n",
      "Su moda es 0    0.0\n",
      "Name: oldpeak, dtype: float64\n",
      "Su curtosis es de 1.3144708893202801\n",
      "Su sesgo es de 1.2108993882065326\n",
      "count    1025.000000\n",
      "mean        1.071512\n",
      "std         1.175053\n",
      "min         0.000000\n",
      "25%         0.000000\n",
      "50%         0.800000\n",
      "75%         1.800000\n",
      "max         6.200000\n",
      "Name: oldpeak, dtype: float64\n"
     ]
    }
   ],
   "source": [
    "print('Su mediana es', df['oldpeak'].median())\n",
    "print('Su moda es', df['oldpeak'].mode())\n",
    "print('Su curtosis es de', df['oldpeak'].kurt())\n",
    "print('Su sesgo es de', df['oldpeak'].skew())\n",
    "print(df['oldpeak'].describe())"
   ]
  },
  {
   "cell_type": "markdown",
   "metadata": {},
   "source": [
    "**resultados electrocardiográficos en reposo (valores 0,1,2)**"
   ]
  },
  {
   "cell_type": "code",
   "execution_count": 152,
   "metadata": {},
   "outputs": [
    {
     "name": "stdout",
     "output_type": "stream",
     "text": [
      "Su mediana es 1.0\n",
      "Su moda es 0    1\n",
      "Name: restecg, dtype: int64\n",
      "Su curtosis es de -1.3096135146492\n",
      "Su sesgo es de 0.18044041112923528\n",
      "count    1025.000000\n",
      "mean        0.529756\n",
      "std         0.527878\n",
      "min         0.000000\n",
      "25%         0.000000\n",
      "50%         1.000000\n",
      "75%         1.000000\n",
      "max         2.000000\n",
      "Name: restecg, dtype: float64\n"
     ]
    }
   ],
   "source": [
    "print('Su mediana es', df['restecg'].median())\n",
    "print('Su moda es', df['restecg'].mode())\n",
    "print('Su curtosis es de', df['restecg'].kurt())\n",
    "print('Su sesgo es de', df['restecg'].skew())\n",
    "print(df['restecg'].describe())"
   ]
  },
  {
   "cell_type": "markdown",
   "metadata": {},
   "source": [
    "**Angina inducida por el ejercicio**"
   ]
  },
  {
   "cell_type": "code",
   "execution_count": 153,
   "metadata": {},
   "outputs": [
    {
     "name": "stdout",
     "output_type": "stream",
     "text": [
      "Su mediana es 0.0\n",
      "Su moda es 0    0\n",
      "Name: exang, dtype: int64\n",
      "Su curtosis es de -1.5232047382747014\n",
      "Su sesgo es de 0.692655170469321\n",
      "count    1025.000000\n",
      "mean        0.336585\n",
      "std         0.472772\n",
      "min         0.000000\n",
      "25%         0.000000\n",
      "50%         0.000000\n",
      "75%         1.000000\n",
      "max         1.000000\n",
      "Name: exang, dtype: float64\n"
     ]
    }
   ],
   "source": [
    "print('Su mediana es', df['exang'].median())\n",
    "print('Su moda es', df['exang'].mode())\n",
    "print('Su curtosis es de', df['exang'].kurt())\n",
    "print('Su sesgo es de', df['exang'].skew())\n",
    "print(df['exang'].describe())"
   ]
  },
  {
   "cell_type": "markdown",
   "metadata": {},
   "source": [
    "**Sexo**"
   ]
  },
  {
   "cell_type": "code",
   "execution_count": 154,
   "metadata": {},
   "outputs": [
    {
     "name": "stdout",
     "output_type": "stream",
     "text": [
      "0 equivale a mujer y 1 a hombre\n",
      "Su mediana es 1.0\n",
      "Su moda es 0    1\n",
      "Name: sex, dtype: int64\n",
      "Su curtosis es de -1.2775313330187505\n",
      "Su sesgo es de -0.8514488985126767\n",
      "count    1025.000000\n",
      "mean        0.695610\n",
      "std         0.460373\n",
      "min         0.000000\n",
      "25%         0.000000\n",
      "50%         1.000000\n",
      "75%         1.000000\n",
      "max         1.000000\n",
      "Name: sex, dtype: float64\n"
     ]
    }
   ],
   "source": [
    "print(\"0 equivale a mujer y 1 a hombre\")\n",
    "print('Su mediana es', df['sex'].median())\n",
    "print('Su moda es', df['sex'].mode())\n",
    "print('Su curtosis es de', df['sex'].kurt())\n",
    "print('Su sesgo es de', df['sex'].skew())\n",
    "print(df['sex'].describe())"
   ]
  },
  {
   "cell_type": "markdown",
   "metadata": {},
   "source": [
    "**Pendiente del segmento ST del ejercicio máximo**"
   ]
  },
  {
   "cell_type": "code",
   "execution_count": 155,
   "metadata": {},
   "outputs": [
    {
     "name": "stdout",
     "output_type": "stream",
     "text": [
      "Su mediana es 1.0\n",
      "Su moda es 0    1\n",
      "Name: slope, dtype: int64\n",
      "Su curtosis es de -0.6471291959211065\n",
      "Su sesgo es de -0.4791344197425813\n",
      "count    1025.000000\n",
      "mean        1.385366\n",
      "std         0.617755\n",
      "min         0.000000\n",
      "25%         1.000000\n",
      "50%         1.000000\n",
      "75%         2.000000\n",
      "max         2.000000\n",
      "Name: slope, dtype: float64\n"
     ]
    }
   ],
   "source": [
    "print('Su mediana es', df['slope'].median())\n",
    "print('Su moda es', df['slope'].mode())\n",
    "print('Su curtosis es de', df['slope'].kurt())\n",
    "print('Su sesgo es de', df['slope'].skew())\n",
    "print(df['slope'].describe())"
   ]
  },
  {
   "cell_type": "markdown",
   "metadata": {},
   "source": [
    "**Thal: 0 = normal; 1 = defecto fijo; 2 = defecto reversible**"
   ]
  },
  {
   "cell_type": "code",
   "execution_count": 156,
   "metadata": {},
   "outputs": [
    {
     "name": "stdout",
     "output_type": "stream",
     "text": [
      "Su mediana es 2.0\n",
      "Su moda es 0    2\n",
      "Name: thal, dtype: int64\n",
      "Su curtosis es de 0.25082653446427816\n",
      "Su sesgo es de -0.5243897710407986\n",
      "count    1025.000000\n",
      "mean        2.323902\n",
      "std         0.620660\n",
      "min         0.000000\n",
      "25%         2.000000\n",
      "50%         2.000000\n",
      "75%         3.000000\n",
      "max         3.000000\n",
      "Name: thal, dtype: float64\n"
     ]
    }
   ],
   "source": [
    "print('Su mediana es', df['thal'].median())\n",
    "print('Su moda es', df['thal'].mode())\n",
    "print('Su curtosis es de', df['thal'].kurt())\n",
    "print('Su sesgo es de', df['thal'].skew())\n",
    "print(df['thal'].describe())"
   ]
  }
 ],
 "metadata": {
  "kernelspec": {
   "display_name": "iteso",
   "language": "python",
   "name": "python3"
  },
  "language_info": {
   "codemirror_mode": {
    "name": "ipython",
    "version": 3
   },
   "file_extension": ".py",
   "mimetype": "text/x-python",
   "name": "python",
   "nbconvert_exporter": "python",
   "pygments_lexer": "ipython3",
   "version": "3.12.1"
  }
 },
 "nbformat": 4,
 "nbformat_minor": 2
}
