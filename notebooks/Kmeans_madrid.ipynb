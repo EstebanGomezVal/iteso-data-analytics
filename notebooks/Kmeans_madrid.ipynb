{
 "cells": [
  {
   "cell_type": "markdown",
   "metadata": {},
   "source": [
    "# Kmeans Madrid"
   ]
  },
  {
   "cell_type": "markdown",
   "metadata": {},
   "source": [
    "### Librerias"
   ]
  },
  {
   "cell_type": "code",
   "execution_count": 1042,
   "metadata": {},
   "outputs": [],
   "source": [
    "from sklearn.preprocessing import LabelEncoder\n",
    "import pandas as pd\n",
    "import numpy as np\n",
    "import matplotlib.pyplot as plt\n",
    "import seaborn as sns\n",
    "from sklearn.cluster import KMeans\n",
    "import re"
   ]
  },
  {
   "cell_type": "markdown",
   "metadata": {},
   "source": [
    "### Dataset"
   ]
  },
  {
   "cell_type": "code",
   "execution_count": 1043,
   "metadata": {},
   "outputs": [
    {
     "data": {
      "text/html": [
       "<div>\n",
       "<style scoped>\n",
       "    .dataframe tbody tr th:only-of-type {\n",
       "        vertical-align: middle;\n",
       "    }\n",
       "\n",
       "    .dataframe tbody tr th {\n",
       "        vertical-align: top;\n",
       "    }\n",
       "\n",
       "    .dataframe thead th {\n",
       "        text-align: right;\n",
       "    }\n",
       "</style>\n",
       "<table border=\"1\" class=\"dataframe\">\n",
       "  <thead>\n",
       "    <tr style=\"text-align: right;\">\n",
       "      <th></th>\n",
       "      <th>id</th>\n",
       "      <th>name</th>\n",
       "      <th>host_id</th>\n",
       "      <th>host_name</th>\n",
       "      <th>neighbourhood_group</th>\n",
       "      <th>neighbourhood</th>\n",
       "      <th>latitude</th>\n",
       "      <th>longitude</th>\n",
       "      <th>room_type</th>\n",
       "      <th>price</th>\n",
       "      <th>minimum_nights</th>\n",
       "      <th>number_of_reviews</th>\n",
       "      <th>last_review</th>\n",
       "      <th>reviews_per_month</th>\n",
       "      <th>calculated_host_listings_count</th>\n",
       "      <th>availability_365</th>\n",
       "      <th>number_of_reviews_ltm</th>\n",
       "      <th>license</th>\n",
       "    </tr>\n",
       "  </thead>\n",
       "  <tbody>\n",
       "    <tr>\n",
       "      <th>0</th>\n",
       "      <td>6369</td>\n",
       "      <td>Rental unit in Madrid · ★4.88 · 1 bedroom · 1 ...</td>\n",
       "      <td>13660</td>\n",
       "      <td>Simon</td>\n",
       "      <td>Chamartín</td>\n",
       "      <td>Hispanoamérica</td>\n",
       "      <td>40.45724</td>\n",
       "      <td>-3.67688</td>\n",
       "      <td>Private room</td>\n",
       "      <td>85.0</td>\n",
       "      <td>5</td>\n",
       "      <td>106</td>\n",
       "      <td>2023-10-16</td>\n",
       "      <td>0.63</td>\n",
       "      <td>1</td>\n",
       "      <td>22</td>\n",
       "      <td>4</td>\n",
       "      <td>NaN</td>\n",
       "    </tr>\n",
       "    <tr>\n",
       "      <th>1</th>\n",
       "      <td>30320</td>\n",
       "      <td>Rental unit in Madrid · ★4.63 · 1 bedroom · 2 ...</td>\n",
       "      <td>130907</td>\n",
       "      <td>Dana</td>\n",
       "      <td>Centro</td>\n",
       "      <td>Sol</td>\n",
       "      <td>40.41476</td>\n",
       "      <td>-3.70418</td>\n",
       "      <td>Entire home/apt</td>\n",
       "      <td>65.0</td>\n",
       "      <td>5</td>\n",
       "      <td>172</td>\n",
       "      <td>2022-09-26</td>\n",
       "      <td>1.05</td>\n",
       "      <td>3</td>\n",
       "      <td>0</td>\n",
       "      <td>0</td>\n",
       "      <td>NaN</td>\n",
       "    </tr>\n",
       "    <tr>\n",
       "      <th>2</th>\n",
       "      <td>21853</td>\n",
       "      <td>Rental unit in Madrid · ★4.58 · 1 bedroom · 1 ...</td>\n",
       "      <td>83531</td>\n",
       "      <td>Abdel</td>\n",
       "      <td>Latina</td>\n",
       "      <td>Cármenes</td>\n",
       "      <td>40.40381</td>\n",
       "      <td>-3.74130</td>\n",
       "      <td>Private room</td>\n",
       "      <td>31.0</td>\n",
       "      <td>4</td>\n",
       "      <td>33</td>\n",
       "      <td>2018-07-15</td>\n",
       "      <td>0.30</td>\n",
       "      <td>2</td>\n",
       "      <td>135</td>\n",
       "      <td>0</td>\n",
       "      <td>NaN</td>\n",
       "    </tr>\n",
       "    <tr>\n",
       "      <th>3</th>\n",
       "      <td>24805</td>\n",
       "      <td>Rental unit in Madrid · ★4.91 · 6 bedrooms · 1...</td>\n",
       "      <td>346366726</td>\n",
       "      <td>Alvaro</td>\n",
       "      <td>Centro</td>\n",
       "      <td>Universidad</td>\n",
       "      <td>40.42183</td>\n",
       "      <td>-3.70529</td>\n",
       "      <td>Entire home/apt</td>\n",
       "      <td>94.0</td>\n",
       "      <td>5</td>\n",
       "      <td>33</td>\n",
       "      <td>2023-11-06</td>\n",
       "      <td>0.30</td>\n",
       "      <td>1</td>\n",
       "      <td>168</td>\n",
       "      <td>8</td>\n",
       "      <td>NaN</td>\n",
       "    </tr>\n",
       "    <tr>\n",
       "      <th>4</th>\n",
       "      <td>30959</td>\n",
       "      <td>Loft in Madrid · ★4.38 · 1 bedroom · 1 bed · 1...</td>\n",
       "      <td>132883</td>\n",
       "      <td>Angela</td>\n",
       "      <td>Centro</td>\n",
       "      <td>Embajadores</td>\n",
       "      <td>40.41259</td>\n",
       "      <td>-3.70105</td>\n",
       "      <td>Entire home/apt</td>\n",
       "      <td>NaN</td>\n",
       "      <td>3</td>\n",
       "      <td>8</td>\n",
       "      <td>2017-05-30</td>\n",
       "      <td>0.08</td>\n",
       "      <td>1</td>\n",
       "      <td>0</td>\n",
       "      <td>0</td>\n",
       "      <td>NaN</td>\n",
       "    </tr>\n",
       "  </tbody>\n",
       "</table>\n",
       "</div>"
      ],
      "text/plain": [
       "      id                                               name    host_id  \\\n",
       "0   6369  Rental unit in Madrid · ★4.88 · 1 bedroom · 1 ...      13660   \n",
       "1  30320  Rental unit in Madrid · ★4.63 · 1 bedroom · 2 ...     130907   \n",
       "2  21853  Rental unit in Madrid · ★4.58 · 1 bedroom · 1 ...      83531   \n",
       "3  24805  Rental unit in Madrid · ★4.91 · 6 bedrooms · 1...  346366726   \n",
       "4  30959  Loft in Madrid · ★4.38 · 1 bedroom · 1 bed · 1...     132883   \n",
       "\n",
       "  host_name neighbourhood_group   neighbourhood  latitude  longitude  \\\n",
       "0     Simon           Chamartín  Hispanoamérica  40.45724   -3.67688   \n",
       "1      Dana              Centro             Sol  40.41476   -3.70418   \n",
       "2     Abdel              Latina        Cármenes  40.40381   -3.74130   \n",
       "3    Alvaro              Centro     Universidad  40.42183   -3.70529   \n",
       "4    Angela              Centro     Embajadores  40.41259   -3.70105   \n",
       "\n",
       "         room_type  price  minimum_nights  number_of_reviews last_review  \\\n",
       "0     Private room   85.0               5                106  2023-10-16   \n",
       "1  Entire home/apt   65.0               5                172  2022-09-26   \n",
       "2     Private room   31.0               4                 33  2018-07-15   \n",
       "3  Entire home/apt   94.0               5                 33  2023-11-06   \n",
       "4  Entire home/apt    NaN               3                  8  2017-05-30   \n",
       "\n",
       "   reviews_per_month  calculated_host_listings_count  availability_365  \\\n",
       "0               0.63                               1                22   \n",
       "1               1.05                               3                 0   \n",
       "2               0.30                               2               135   \n",
       "3               0.30                               1               168   \n",
       "4               0.08                               1                 0   \n",
       "\n",
       "   number_of_reviews_ltm license  \n",
       "0                      4     NaN  \n",
       "1                      0     NaN  \n",
       "2                      0     NaN  \n",
       "3                      8     NaN  \n",
       "4                      0     NaN  "
      ]
     },
     "execution_count": 1043,
     "metadata": {},
     "output_type": "execute_result"
    }
   ],
   "source": [
    "df = pd.read_csv('/Users/egmzvalerio/apps/iteso-data-analytics/data/raw/Madrid_listings.csv')\n",
    "df.head()"
   ]
  },
  {
   "cell_type": "markdown",
   "metadata": {},
   "source": [
    "### Eliminación de columnas inservibales"
   ]
  },
  {
   "cell_type": "code",
   "execution_count": 1044,
   "metadata": {},
   "outputs": [
    {
     "data": {
      "text/html": [
       "<div>\n",
       "<style scoped>\n",
       "    .dataframe tbody tr th:only-of-type {\n",
       "        vertical-align: middle;\n",
       "    }\n",
       "\n",
       "    .dataframe tbody tr th {\n",
       "        vertical-align: top;\n",
       "    }\n",
       "\n",
       "    .dataframe thead th {\n",
       "        text-align: right;\n",
       "    }\n",
       "</style>\n",
       "<table border=\"1\" class=\"dataframe\">\n",
       "  <thead>\n",
       "    <tr style=\"text-align: right;\">\n",
       "      <th></th>\n",
       "      <th>name</th>\n",
       "      <th>neighbourhood_group</th>\n",
       "      <th>neighbourhood</th>\n",
       "      <th>room_type</th>\n",
       "      <th>price</th>\n",
       "      <th>minimum_nights</th>\n",
       "      <th>number_of_reviews</th>\n",
       "      <th>reviews_per_month</th>\n",
       "      <th>calculated_host_listings_count</th>\n",
       "      <th>availability_365</th>\n",
       "      <th>number_of_reviews_ltm</th>\n",
       "    </tr>\n",
       "  </thead>\n",
       "  <tbody>\n",
       "    <tr>\n",
       "      <th>0</th>\n",
       "      <td>Rental unit in Madrid · ★4.88 · 1 bedroom · 1 ...</td>\n",
       "      <td>Chamartín</td>\n",
       "      <td>Hispanoamérica</td>\n",
       "      <td>Private room</td>\n",
       "      <td>85.0</td>\n",
       "      <td>5</td>\n",
       "      <td>106</td>\n",
       "      <td>0.63</td>\n",
       "      <td>1</td>\n",
       "      <td>22</td>\n",
       "      <td>4</td>\n",
       "    </tr>\n",
       "    <tr>\n",
       "      <th>1</th>\n",
       "      <td>Rental unit in Madrid · ★4.63 · 1 bedroom · 2 ...</td>\n",
       "      <td>Centro</td>\n",
       "      <td>Sol</td>\n",
       "      <td>Entire home/apt</td>\n",
       "      <td>65.0</td>\n",
       "      <td>5</td>\n",
       "      <td>172</td>\n",
       "      <td>1.05</td>\n",
       "      <td>3</td>\n",
       "      <td>0</td>\n",
       "      <td>0</td>\n",
       "    </tr>\n",
       "    <tr>\n",
       "      <th>2</th>\n",
       "      <td>Rental unit in Madrid · ★4.58 · 1 bedroom · 1 ...</td>\n",
       "      <td>Latina</td>\n",
       "      <td>Cármenes</td>\n",
       "      <td>Private room</td>\n",
       "      <td>31.0</td>\n",
       "      <td>4</td>\n",
       "      <td>33</td>\n",
       "      <td>0.30</td>\n",
       "      <td>2</td>\n",
       "      <td>135</td>\n",
       "      <td>0</td>\n",
       "    </tr>\n",
       "    <tr>\n",
       "      <th>3</th>\n",
       "      <td>Rental unit in Madrid · ★4.91 · 6 bedrooms · 1...</td>\n",
       "      <td>Centro</td>\n",
       "      <td>Universidad</td>\n",
       "      <td>Entire home/apt</td>\n",
       "      <td>94.0</td>\n",
       "      <td>5</td>\n",
       "      <td>33</td>\n",
       "      <td>0.30</td>\n",
       "      <td>1</td>\n",
       "      <td>168</td>\n",
       "      <td>8</td>\n",
       "    </tr>\n",
       "    <tr>\n",
       "      <th>4</th>\n",
       "      <td>Loft in Madrid · ★4.38 · 1 bedroom · 1 bed · 1...</td>\n",
       "      <td>Centro</td>\n",
       "      <td>Embajadores</td>\n",
       "      <td>Entire home/apt</td>\n",
       "      <td>NaN</td>\n",
       "      <td>3</td>\n",
       "      <td>8</td>\n",
       "      <td>0.08</td>\n",
       "      <td>1</td>\n",
       "      <td>0</td>\n",
       "      <td>0</td>\n",
       "    </tr>\n",
       "  </tbody>\n",
       "</table>\n",
       "</div>"
      ],
      "text/plain": [
       "                                                name neighbourhood_group  \\\n",
       "0  Rental unit in Madrid · ★4.88 · 1 bedroom · 1 ...           Chamartín   \n",
       "1  Rental unit in Madrid · ★4.63 · 1 bedroom · 2 ...              Centro   \n",
       "2  Rental unit in Madrid · ★4.58 · 1 bedroom · 1 ...              Latina   \n",
       "3  Rental unit in Madrid · ★4.91 · 6 bedrooms · 1...              Centro   \n",
       "4  Loft in Madrid · ★4.38 · 1 bedroom · 1 bed · 1...              Centro   \n",
       "\n",
       "    neighbourhood        room_type  price  minimum_nights  number_of_reviews  \\\n",
       "0  Hispanoamérica     Private room   85.0               5                106   \n",
       "1             Sol  Entire home/apt   65.0               5                172   \n",
       "2        Cármenes     Private room   31.0               4                 33   \n",
       "3     Universidad  Entire home/apt   94.0               5                 33   \n",
       "4     Embajadores  Entire home/apt    NaN               3                  8   \n",
       "\n",
       "   reviews_per_month  calculated_host_listings_count  availability_365  \\\n",
       "0               0.63                               1                22   \n",
       "1               1.05                               3                 0   \n",
       "2               0.30                               2               135   \n",
       "3               0.30                               1               168   \n",
       "4               0.08                               1                 0   \n",
       "\n",
       "   number_of_reviews_ltm  \n",
       "0                      4  \n",
       "1                      0  \n",
       "2                      0  \n",
       "3                      8  \n",
       "4                      0  "
      ]
     },
     "execution_count": 1044,
     "metadata": {},
     "output_type": "execute_result"
    }
   ],
   "source": [
    "df = df.drop(['host_id', 'host_name', 'last_review', 'license', 'longitude', 'latitude', 'id'], axis = 1)\n",
    "df.head()"
   ]
  },
  {
   "cell_type": "markdown",
   "metadata": {},
   "source": [
    "### Reemplazo de valores faltantes en el precio"
   ]
  },
  {
   "cell_type": "code",
   "execution_count": 1045,
   "metadata": {},
   "outputs": [
    {
     "data": {
      "text/plain": [
       "name                                 0\n",
       "neighbourhood_group                  0\n",
       "neighbourhood                        0\n",
       "room_type                            0\n",
       "price                             3809\n",
       "minimum_nights                       0\n",
       "number_of_reviews                    0\n",
       "reviews_per_month                 5367\n",
       "calculated_host_listings_count       0\n",
       "availability_365                     0\n",
       "number_of_reviews_ltm                0\n",
       "dtype: int64"
      ]
     },
     "execution_count": 1045,
     "metadata": {},
     "output_type": "execute_result"
    }
   ],
   "source": [
    "df.isna().sum()"
   ]
  },
  {
   "cell_type": "code",
   "execution_count": 1046,
   "metadata": {},
   "outputs": [
    {
     "data": {
      "text/plain": [
       "<Axes: >"
      ]
     },
     "execution_count": 1046,
     "metadata": {},
     "output_type": "execute_result"
    },
    {
     "data": {
      "image/png": "[encoded data removed]",
      "text/plain": [
       "<Figure size 640x480 with 1 Axes>"
      ]
     },
     "metadata": {},
     "output_type": "display_data"
    }
   ],
   "source": [
    "df['price'].plot(kind = 'box', )"
   ]
  },
  {
   "cell_type": "code",
   "execution_count": 1047,
   "metadata": {},
   "outputs": [
    {
     "data": {
      "text/plain": [
       "21000.0"
      ]
     },
     "execution_count": 1047,
     "metadata": {},
     "output_type": "execute_result"
    }
   ],
   "source": [
    "df['price'].max()"
   ]
  },
  {
   "cell_type": "code",
   "execution_count": 1048,
   "metadata": {},
   "outputs": [
    {
     "name": "stdout",
     "output_type": "stream",
     "text": [
      "La media del precio 129.01605778963835\n"
     ]
    }
   ],
   "source": [
    "media_precio = df['price'].mean()\n",
    "print('La media del precio', media_precio)\n",
    "\n",
    "df['price'].fillna(media_precio, inplace = True)"
   ]
  },
  {
   "cell_type": "markdown",
   "metadata": {},
   "source": [
    "### Comprobar que no haya valores faltantes"
   ]
  },
  {
   "cell_type": "code",
   "execution_count": 1049,
   "metadata": {},
   "outputs": [
    {
     "data": {
      "text/plain": [
       "name                                 0\n",
       "neighbourhood_group                  0\n",
       "neighbourhood                        0\n",
       "room_type                            0\n",
       "price                                0\n",
       "minimum_nights                       0\n",
       "number_of_reviews                    0\n",
       "reviews_per_month                 5367\n",
       "calculated_host_listings_count       0\n",
       "availability_365                     0\n",
       "number_of_reviews_ltm                0\n",
       "dtype: int64"
      ]
     },
     "execution_count": 1049,
     "metadata": {},
     "output_type": "execute_result"
    }
   ],
   "source": [
    "df.isna().sum()"
   ]
  },
  {
   "cell_type": "code",
   "execution_count": 1050,
   "metadata": {},
   "outputs": [],
   "source": [
    "Le = LabelEncoder()"
   ]
  },
  {
   "cell_type": "markdown",
   "metadata": {},
   "source": [
    "### Creación de nuevas variables"
   ]
  },
  {
   "cell_type": "code",
   "execution_count": 1051,
   "metadata": {},
   "outputs": [
    {
     "data": {
      "text/html": [
       "<div>\n",
       "<style scoped>\n",
       "    .dataframe tbody tr th:only-of-type {\n",
       "        vertical-align: middle;\n",
       "    }\n",
       "\n",
       "    .dataframe tbody tr th {\n",
       "        vertical-align: top;\n",
       "    }\n",
       "\n",
       "    .dataframe thead th {\n",
       "        text-align: right;\n",
       "    }\n",
       "</style>\n",
       "<table border=\"1\" class=\"dataframe\">\n",
       "  <thead>\n",
       "    <tr style=\"text-align: right;\">\n",
       "      <th></th>\n",
       "      <th>name</th>\n",
       "      <th>neighbourhood_group</th>\n",
       "      <th>neighbourhood</th>\n",
       "      <th>room_type</th>\n",
       "      <th>price</th>\n",
       "      <th>minimum_nights</th>\n",
       "      <th>number_of_reviews</th>\n",
       "      <th>reviews_per_month</th>\n",
       "      <th>calculated_host_listings_count</th>\n",
       "      <th>availability_365</th>\n",
       "      <th>number_of_reviews_ltm</th>\n",
       "      <th>type_property</th>\n",
       "      <th>stars</th>\n",
       "      <th>bedrooms</th>\n",
       "      <th>beds</th>\n",
       "      <th>baths</th>\n",
       "    </tr>\n",
       "  </thead>\n",
       "  <tbody>\n",
       "    <tr>\n",
       "      <th>0</th>\n",
       "      <td>Rental unit in Madrid · ★4.88 · 1 bedroom · 1 ...</td>\n",
       "      <td>Chamartín</td>\n",
       "      <td>Hispanoamérica</td>\n",
       "      <td>Private room</td>\n",
       "      <td>85.000000</td>\n",
       "      <td>5</td>\n",
       "      <td>106</td>\n",
       "      <td>0.63</td>\n",
       "      <td>1</td>\n",
       "      <td>22</td>\n",
       "      <td>4</td>\n",
       "      <td>Rental unit in Madrid</td>\n",
       "      <td>★4.88</td>\n",
       "      <td>1 bedroom</td>\n",
       "      <td>1 bed</td>\n",
       "      <td>1 private bath</td>\n",
       "    </tr>\n",
       "    <tr>\n",
       "      <th>1</th>\n",
       "      <td>Rental unit in Madrid · ★4.63 · 1 bedroom · 2 ...</td>\n",
       "      <td>Centro</td>\n",
       "      <td>Sol</td>\n",
       "      <td>Entire home/apt</td>\n",
       "      <td>65.000000</td>\n",
       "      <td>5</td>\n",
       "      <td>172</td>\n",
       "      <td>1.05</td>\n",
       "      <td>3</td>\n",
       "      <td>0</td>\n",
       "      <td>0</td>\n",
       "      <td>Rental unit in Madrid</td>\n",
       "      <td>★4.63</td>\n",
       "      <td>1 bedroom</td>\n",
       "      <td>2 beds</td>\n",
       "      <td>1 bath</td>\n",
       "    </tr>\n",
       "    <tr>\n",
       "      <th>2</th>\n",
       "      <td>Rental unit in Madrid · ★4.58 · 1 bedroom · 1 ...</td>\n",
       "      <td>Latina</td>\n",
       "      <td>Cármenes</td>\n",
       "      <td>Private room</td>\n",
       "      <td>31.000000</td>\n",
       "      <td>4</td>\n",
       "      <td>33</td>\n",
       "      <td>0.30</td>\n",
       "      <td>2</td>\n",
       "      <td>135</td>\n",
       "      <td>0</td>\n",
       "      <td>Rental unit in Madrid</td>\n",
       "      <td>★4.58</td>\n",
       "      <td>1 bedroom</td>\n",
       "      <td>1 bed</td>\n",
       "      <td>1 bath</td>\n",
       "    </tr>\n",
       "    <tr>\n",
       "      <th>3</th>\n",
       "      <td>Rental unit in Madrid · ★4.91 · 6 bedrooms · 1...</td>\n",
       "      <td>Centro</td>\n",
       "      <td>Universidad</td>\n",
       "      <td>Entire home/apt</td>\n",
       "      <td>94.000000</td>\n",
       "      <td>5</td>\n",
       "      <td>33</td>\n",
       "      <td>0.30</td>\n",
       "      <td>1</td>\n",
       "      <td>168</td>\n",
       "      <td>8</td>\n",
       "      <td>Rental unit in Madrid</td>\n",
       "      <td>★4.91</td>\n",
       "      <td>6 bedrooms</td>\n",
       "      <td>1 bed</td>\n",
       "      <td>1 bath</td>\n",
       "    </tr>\n",
       "    <tr>\n",
       "      <th>4</th>\n",
       "      <td>Loft in Madrid · ★4.38 · 1 bedroom · 1 bed · 1...</td>\n",
       "      <td>Centro</td>\n",
       "      <td>Embajadores</td>\n",
       "      <td>Entire home/apt</td>\n",
       "      <td>129.016058</td>\n",
       "      <td>3</td>\n",
       "      <td>8</td>\n",
       "      <td>0.08</td>\n",
       "      <td>1</td>\n",
       "      <td>0</td>\n",
       "      <td>0</td>\n",
       "      <td>Loft in Madrid</td>\n",
       "      <td>★4.38</td>\n",
       "      <td>1 bedroom</td>\n",
       "      <td>1 bed</td>\n",
       "      <td>1 bath</td>\n",
       "    </tr>\n",
       "  </tbody>\n",
       "</table>\n",
       "</div>"
      ],
      "text/plain": [
       "                                                name neighbourhood_group  \\\n",
       "0  Rental unit in Madrid · ★4.88 · 1 bedroom · 1 ...           Chamartín   \n",
       "1  Rental unit in Madrid · ★4.63 · 1 bedroom · 2 ...              Centro   \n",
       "2  Rental unit in Madrid · ★4.58 · 1 bedroom · 1 ...              Latina   \n",
       "3  Rental unit in Madrid · ★4.91 · 6 bedrooms · 1...              Centro   \n",
       "4  Loft in Madrid · ★4.38 · 1 bedroom · 1 bed · 1...              Centro   \n",
       "\n",
       "    neighbourhood        room_type       price  minimum_nights  \\\n",
       "0  Hispanoamérica     Private room   85.000000               5   \n",
       "1             Sol  Entire home/apt   65.000000               5   \n",
       "2        Cármenes     Private room   31.000000               4   \n",
       "3     Universidad  Entire home/apt   94.000000               5   \n",
       "4     Embajadores  Entire home/apt  129.016058               3   \n",
       "\n",
       "   number_of_reviews  reviews_per_month  calculated_host_listings_count  \\\n",
       "0                106               0.63                               1   \n",
       "1                172               1.05                               3   \n",
       "2                 33               0.30                               2   \n",
       "3                 33               0.30                               1   \n",
       "4                  8               0.08                               1   \n",
       "\n",
       "   availability_365  number_of_reviews_ltm          type_property  stars  \\\n",
       "0                22                      4  Rental unit in Madrid  ★4.88   \n",
       "1                 0                      0  Rental unit in Madrid  ★4.63   \n",
       "2               135                      0  Rental unit in Madrid  ★4.58   \n",
       "3               168                      8  Rental unit in Madrid  ★4.91   \n",
       "4                 0                      0         Loft in Madrid  ★4.38   \n",
       "\n",
       "     bedrooms    beds           baths  \n",
       "0   1 bedroom   1 bed  1 private bath  \n",
       "1   1 bedroom  2 beds          1 bath  \n",
       "2   1 bedroom   1 bed          1 bath  \n",
       "3  6 bedrooms   1 bed          1 bath  \n",
       "4   1 bedroom   1 bed          1 bath  "
      ]
     },
     "execution_count": 1051,
     "metadata": {},
     "output_type": "execute_result"
    }
   ],
   "source": [
    "df[['type_property', 'stars', 'bedrooms', 'beds', 'baths']] = df['name'].str.split(' · ', expand = True)\n",
    "df.head()"
   ]
  },
  {
   "cell_type": "markdown",
   "metadata": {},
   "source": [
    "### Tipo de propiedad"
   ]
  },
  {
   "cell_type": "code",
   "execution_count": 1052,
   "metadata": {},
   "outputs": [
    {
     "data": {
      "text/plain": [
       "0        rental\n",
       "1        rental\n",
       "2        rental\n",
       "3        rental\n",
       "4          loft\n",
       "          ...  \n",
       "25538    rental\n",
       "25539    rental\n",
       "25540    rental\n",
       "25541    rental\n",
       "25542    rental\n",
       "Name: type_property, Length: 25543, dtype: object"
      ]
     },
     "execution_count": 1052,
     "metadata": {},
     "output_type": "execute_result"
    }
   ],
   "source": [
    "df['type_property'] = df['type_property'].str.replace(r\"[\\[\\]\\'\\,\\']\", \"\", regex = True)\n",
    "df['type_property'] = df['type_property'].str.lower().str.split().str[0]\n",
    "df['type_property'] "
   ]
  },
  {
   "cell_type": "markdown",
   "metadata": {},
   "source": [
    "### Rating"
   ]
  },
  {
   "cell_type": "code",
   "execution_count": 1053,
   "metadata": {},
   "outputs": [
    {
     "data": {
      "text/plain": [
       "0        4.88\n",
       "1        4.63\n",
       "2        4.58\n",
       "3        4.91\n",
       "4        4.38\n",
       "         ... \n",
       "25538     New\n",
       "25539     New\n",
       "25540     New\n",
       "25541     New\n",
       "25542     New\n",
       "Name: stars, Length: 25543, dtype: object"
      ]
     },
     "execution_count": 1053,
     "metadata": {},
     "output_type": "execute_result"
    }
   ],
   "source": [
    "df['stars'] = df['stars'].str.replace('★', '')\n",
    "df['stars']"
   ]
  },
  {
   "cell_type": "markdown",
   "metadata": {},
   "source": [
    "### Cantidad de baños"
   ]
  },
  {
   "cell_type": "code",
   "execution_count": 1054,
   "metadata": {},
   "outputs": [
    {
     "data": {
      "text/plain": [
       "0        1\n",
       "1        1\n",
       "2        1\n",
       "3        6\n",
       "4        1\n",
       "        ..\n",
       "25538    2\n",
       "25539    1\n",
       "25540    1\n",
       "25541    2\n",
       "25542    1\n",
       "Name: bedrooms, Length: 25543, dtype: object"
      ]
     },
     "execution_count": 1054,
     "metadata": {},
     "output_type": "execute_result"
    }
   ],
   "source": [
    "df['bedrooms'] = df['bedrooms'].astype(str).str[0]\n",
    "df['bedrooms'] "
   ]
  },
  {
   "cell_type": "markdown",
   "metadata": {},
   "source": [
    "### Cantidad de camas"
   ]
  },
  {
   "cell_type": "code",
   "execution_count": 1055,
   "metadata": {},
   "outputs": [
    {
     "data": {
      "text/plain": [
       "0        1\n",
       "1        2\n",
       "2        1\n",
       "3        1\n",
       "4        1\n",
       "        ..\n",
       "25538    3\n",
       "25539    1\n",
       "25540    1\n",
       "25541    4\n",
       "25542    3\n",
       "Name: beds, Length: 25543, dtype: object"
      ]
     },
     "execution_count": 1055,
     "metadata": {},
     "output_type": "execute_result"
    }
   ],
   "source": [
    "df['beds'] = df['beds'].astype(str).str[0]\n",
    "df['beds'] "
   ]
  },
  {
   "cell_type": "markdown",
   "metadata": {},
   "source": [
    "### Cantidad de duchas"
   ]
  },
  {
   "cell_type": "code",
   "execution_count": 1056,
   "metadata": {},
   "outputs": [
    {
     "data": {
      "text/plain": [
       "0        1\n",
       "1        1\n",
       "2        1\n",
       "3        1\n",
       "4        1\n",
       "        ..\n",
       "25538    1\n",
       "25539    1\n",
       "25540    1\n",
       "25541    1\n",
       "25542    1\n",
       "Name: baths, Length: 25543, dtype: object"
      ]
     },
     "execution_count": 1056,
     "metadata": {},
     "output_type": "execute_result"
    }
   ],
   "source": [
    "df['baths'] = df['baths'].astype(str).str[0]\n",
    "df['baths'] "
   ]
  },
  {
   "cell_type": "code",
   "execution_count": 1057,
   "metadata": {},
   "outputs": [],
   "source": [
    "df = df.drop('name', axis = 1)"
   ]
  },
  {
   "cell_type": "markdown",
   "metadata": {},
   "source": [
    "### Valores faltantes de nuevas variables"
   ]
  },
  {
   "cell_type": "code",
   "execution_count": 1085,
   "metadata": {},
   "outputs": [
    {
     "data": {
      "text/plain": [
       "<Axes: >"
      ]
     },
     "execution_count": 1085,
     "metadata": {},
     "output_type": "execute_result"
    },
    {
     "data": {
      "image/png": "[encoded data removed]",
      "text/plain": [
       "<Figure size 640x480 with 1 Axes>"
      ]
     },
     "metadata": {},
     "output_type": "display_data"
    }
   ],
   "source": [
    "df['stars'].hist()"
   ]
  },
  {
   "cell_type": "code",
   "execution_count": 1087,
   "metadata": {},
   "outputs": [
    {
     "data": {
      "text/plain": [
       "<Axes: >"
      ]
     },
     "execution_count": 1087,
     "metadata": {},
     "output_type": "execute_result"
    },
    {
     "data": {
      "image/png": "[encoded data removed]",
      "text/plain": [
       "<Figure size 640x480 with 1 Axes>"
      ]
     },
     "metadata": {},
     "output_type": "display_data"
    }
   ],
   "source": [
    "df['beds'].hist()"
   ]
  },
  {
   "cell_type": "code",
   "execution_count": 1088,
   "metadata": {},
   "outputs": [
    {
     "data": {
      "text/plain": [
       "<Axes: >"
      ]
     },
     "execution_count": 1088,
     "metadata": {},
     "output_type": "execute_result"
    },
    {
     "data": {
      "image/png": "[encoded data removed]",
      "text/plain": [
       "<Figure size 640x480 with 1 Axes>"
      ]
     },
     "metadata": {},
     "output_type": "display_data"
    }
   ],
   "source": [
    "df['baths'].hist()"
   ]
  },
  {
   "cell_type": "code",
   "execution_count": 1090,
   "metadata": {},
   "outputs": [
    {
     "ename": "KeyError",
     "evalue": "'bethroom'",
     "output_type": "error",
     "traceback": [
      "\u001b[0;31m---------------------------------------------------------------------------\u001b[0m",
      "\u001b[0;31mKeyError\u001b[0m                                  Traceback (most recent call last)",
      "File \u001b[0;32m~/anaconda3/envs/iteso/lib/python3.12/site-packages/pandas/core/indexes/base.py:3791\u001b[0m, in \u001b[0;36mIndex.get_loc\u001b[0;34m(self, key)\u001b[0m\n\u001b[1;32m   3790\u001b[0m \u001b[38;5;28;01mtry\u001b[39;00m:\n\u001b[0;32m-> 3791\u001b[0m     \u001b[38;5;28;01mreturn\u001b[39;00m \u001b[38;5;28mself\u001b[39m\u001b[38;5;241m.\u001b[39m_engine\u001b[38;5;241m.\u001b[39mget_loc(casted_key)\n\u001b[1;32m   3792\u001b[0m \u001b[38;5;28;01mexcept\u001b[39;00m \u001b[38;5;167;01mKeyError\u001b[39;00m \u001b[38;5;28;01mas\u001b[39;00m err:\n",
      "File \u001b[0;32mindex.pyx:152\u001b[0m, in \u001b[0;36mpandas._libs.index.IndexEngine.get_loc\u001b[0;34m()\u001b[0m\n",
      "File \u001b[0;32mindex.pyx:181\u001b[0m, in \u001b[0;36mpandas._libs.index.IndexEngine.get_loc\u001b[0;34m()\u001b[0m\n",
      "File \u001b[0;32mpandas/_libs/hashtable_class_helper.pxi:7080\u001b[0m, in \u001b[0;36mpandas._libs.hashtable.PyObjectHashTable.get_item\u001b[0;34m()\u001b[0m\n",
      "File \u001b[0;32mpandas/_libs/hashtable_class_helper.pxi:7088\u001b[0m, in \u001b[0;36mpandas._libs.hashtable.PyObjectHashTable.get_item\u001b[0;34m()\u001b[0m\n",
      "\u001b[0;31mKeyError\u001b[0m: 'bethroom'",
      "\nThe above exception was the direct cause of the following exception:\n",
      "\u001b[0;31mKeyError\u001b[0m                                  Traceback (most recent call last)",
      "Cell \u001b[0;32mIn[1090], line 1\u001b[0m\n\u001b[0;32m----> 1\u001b[0m df[\u001b[38;5;124m'\u001b[39m\u001b[38;5;124mbethroom\u001b[39m\u001b[38;5;124m'\u001b[39m]\u001b[38;5;241m.\u001b[39mhist()\n",
      "File \u001b[0;32m~/anaconda3/envs/iteso/lib/python3.12/site-packages/pandas/core/frame.py:3893\u001b[0m, in \u001b[0;36mDataFrame.__getitem__\u001b[0;34m(self, key)\u001b[0m\n\u001b[1;32m   3891\u001b[0m \u001b[38;5;28;01mif\u001b[39;00m \u001b[38;5;28mself\u001b[39m\u001b[38;5;241m.\u001b[39mcolumns\u001b[38;5;241m.\u001b[39mnlevels \u001b[38;5;241m>\u001b[39m \u001b[38;5;241m1\u001b[39m:\n\u001b[1;32m   3892\u001b[0m     \u001b[38;5;28;01mreturn\u001b[39;00m \u001b[38;5;28mself\u001b[39m\u001b[38;5;241m.\u001b[39m_getitem_multilevel(key)\n\u001b[0;32m-> 3893\u001b[0m indexer \u001b[38;5;241m=\u001b[39m \u001b[38;5;28mself\u001b[39m\u001b[38;5;241m.\u001b[39mcolumns\u001b[38;5;241m.\u001b[39mget_loc(key)\n\u001b[1;32m   3894\u001b[0m \u001b[38;5;28;01mif\u001b[39;00m is_integer(indexer):\n\u001b[1;32m   3895\u001b[0m     indexer \u001b[38;5;241m=\u001b[39m [indexer]\n",
      "File \u001b[0;32m~/anaconda3/envs/iteso/lib/python3.12/site-packages/pandas/core/indexes/base.py:3798\u001b[0m, in \u001b[0;36mIndex.get_loc\u001b[0;34m(self, key)\u001b[0m\n\u001b[1;32m   3793\u001b[0m     \u001b[38;5;28;01mif\u001b[39;00m \u001b[38;5;28misinstance\u001b[39m(casted_key, \u001b[38;5;28mslice\u001b[39m) \u001b[38;5;129;01mor\u001b[39;00m (\n\u001b[1;32m   3794\u001b[0m         \u001b[38;5;28misinstance\u001b[39m(casted_key, abc\u001b[38;5;241m.\u001b[39mIterable)\n\u001b[1;32m   3795\u001b[0m         \u001b[38;5;129;01mand\u001b[39;00m \u001b[38;5;28many\u001b[39m(\u001b[38;5;28misinstance\u001b[39m(x, \u001b[38;5;28mslice\u001b[39m) \u001b[38;5;28;01mfor\u001b[39;00m x \u001b[38;5;129;01min\u001b[39;00m casted_key)\n\u001b[1;32m   3796\u001b[0m     ):\n\u001b[1;32m   3797\u001b[0m         \u001b[38;5;28;01mraise\u001b[39;00m InvalidIndexError(key)\n\u001b[0;32m-> 3798\u001b[0m     \u001b[38;5;28;01mraise\u001b[39;00m \u001b[38;5;167;01mKeyError\u001b[39;00m(key) \u001b[38;5;28;01mfrom\u001b[39;00m \u001b[38;5;21;01merr\u001b[39;00m\n\u001b[1;32m   3799\u001b[0m \u001b[38;5;28;01mexcept\u001b[39;00m \u001b[38;5;167;01mTypeError\u001b[39;00m:\n\u001b[1;32m   3800\u001b[0m     \u001b[38;5;66;03m# If we have a listlike key, _check_indexing_error will raise\u001b[39;00m\n\u001b[1;32m   3801\u001b[0m     \u001b[38;5;66;03m#  InvalidIndexError. Otherwise we fall through and re-raise\u001b[39;00m\n\u001b[1;32m   3802\u001b[0m     \u001b[38;5;66;03m#  the TypeError.\u001b[39;00m\n\u001b[1;32m   3803\u001b[0m     \u001b[38;5;28mself\u001b[39m\u001b[38;5;241m.\u001b[39m_check_indexing_error(key)\n",
      "\u001b[0;31mKeyError\u001b[0m: 'bethroom'"
     ]
    }
   ],
   "source": [
    "df['bethroom'].hist()"
   ]
  },
  {
   "cell_type": "markdown",
   "metadata": {},
   "source": [
    "### Disponibilidad en meses"
   ]
  },
  {
   "cell_type": "code",
   "execution_count": 1058,
   "metadata": {},
   "outputs": [
    {
     "data": {
      "text/plain": [
       "0         1\n",
       "1         0\n",
       "2         4\n",
       "3         6\n",
       "4         0\n",
       "         ..\n",
       "25538    10\n",
       "25539     6\n",
       "25540    11\n",
       "25541    11\n",
       "25542    10\n",
       "Name: availability_365, Length: 25543, dtype: int64"
      ]
     },
     "execution_count": 1058,
     "metadata": {},
     "output_type": "execute_result"
    }
   ],
   "source": [
    "df[\"availability_365\"] = df[\"availability_365\"].apply(lambda x: round(x/30))\n",
    "df[\"availability_365\"]"
   ]
  },
  {
   "cell_type": "markdown",
   "metadata": {},
   "source": [
    "### Variable neigbourhood a variable categórica"
   ]
  },
  {
   "cell_type": "code",
   "execution_count": 1059,
   "metadata": {},
   "outputs": [
    {
     "name": "stderr",
     "output_type": "stream",
     "text": [
      "/Users/egmzvalerio/anaconda3/envs/iteso/lib/python3.12/site-packages/sklearn/preprocessing/_label.py:132: DataConversionWarning: A column-vector y was passed when a 1d array was expected. Please change the shape of y to (n_samples, ), for example using ravel().\n",
      "  y = column_or_1d(y, dtype=self.classes_.dtype, warn=True)\n"
     ]
    },
    {
     "data": {
      "text/plain": [
       "0         58\n",
       "1        111\n",
       "2         43\n",
       "3        114\n",
       "4         49\n",
       "        ... \n",
       "25538    124\n",
       "25539     56\n",
       "25540     31\n",
       "25541     13\n",
       "25542     62\n",
       "Name: neighbourhood, Length: 25543, dtype: int64"
      ]
     },
     "execution_count": 1059,
     "metadata": {},
     "output_type": "execute_result"
    }
   ],
   "source": [
    "Le.fit(df[\"neighbourhood\"])\n",
    "df[\"neighbourhood\"] = Le.transform(df[[\"neighbourhood\"]])\n",
    "df[\"neighbourhood\"]"
   ]
  },
  {
   "cell_type": "code",
   "execution_count": 1060,
   "metadata": {},
   "outputs": [
    {
     "name": "stderr",
     "output_type": "stream",
     "text": [
      "/Users/egmzvalerio/anaconda3/envs/iteso/lib/python3.12/site-packages/sklearn/preprocessing/_label.py:132: DataConversionWarning: A column-vector y was passed when a 1d array was expected. Please change the shape of y to (n_samples, ), for example using ravel().\n",
      "  y = column_or_1d(y, dtype=self.classes_.dtype, warn=True)\n"
     ]
    },
    {
     "data": {
      "text/plain": [
       "0         4\n",
       "1         3\n",
       "2         9\n",
       "3         3\n",
       "4         3\n",
       "         ..\n",
       "25538    17\n",
       "25539    14\n",
       "25540    16\n",
       "25541     5\n",
       "25542     3\n",
       "Name: neighbourhood_group, Length: 25543, dtype: int64"
      ]
     },
     "execution_count": 1060,
     "metadata": {},
     "output_type": "execute_result"
    }
   ],
   "source": [
    "Le.fit(df[\"neighbourhood_group\"])\n",
    "df[\"neighbourhood_group\"] = Le.transform(df[[\"neighbourhood_group\"]])\n",
    "df[\"neighbourhood_group\"]"
   ]
  },
  {
   "cell_type": "markdown",
   "metadata": {},
   "source": [
    "### Clasificación de reviews_ltm cada 10 reviews"
   ]
  },
  {
   "cell_type": "code",
   "execution_count": 1061,
   "metadata": {},
   "outputs": [
    {
     "data": {
      "text/plain": [
       "<Axes: >"
      ]
     },
     "execution_count": 1061,
     "metadata": {},
     "output_type": "execute_result"
    },
    {
     "data": {
      "image/png": "[encoded data removed]",
      "text/plain": [
       "<Figure size 640x480 with 1 Axes>"
      ]
     },
     "metadata": {},
     "output_type": "display_data"
    }
   ],
   "source": [
    "df[\"number_of_reviews_ltm\"].hist()"
   ]
  },
  {
   "cell_type": "code",
   "execution_count": 1062,
   "metadata": {},
   "outputs": [],
   "source": [
    "def resenas(x):\n",
    "    if x <= 10:\n",
    "        X = 0\n",
    "    elif x <= 20:\n",
    "        X = 1\n",
    "    elif x <= 30:\n",
    "        X = 2\n",
    "    elif x <= 40:\n",
    "        X = 3\n",
    "    elif x <= 50:\n",
    "        X = 4\n",
    "    elif x <= 60:\n",
    "        X = 5\n",
    "    elif x <= 70:\n",
    "        X = 6\n",
    "    elif x <= 80:\n",
    "        X = 7\n",
    "    elif x <= 90:\n",
    "        X = 8\n",
    "    else:\n",
    "        X = 9\n",
    "    return X"
   ]
  },
  {
   "cell_type": "code",
   "execution_count": 1063,
   "metadata": {},
   "outputs": [
    {
     "data": {
      "text/plain": [
       "0        0\n",
       "1        0\n",
       "2        0\n",
       "3        0\n",
       "4        0\n",
       "        ..\n",
       "25538    0\n",
       "25539    0\n",
       "25540    0\n",
       "25541    0\n",
       "25542    0\n",
       "Name: number_of_reviews_ltm, Length: 25543, dtype: int64"
      ]
     },
     "execution_count": 1063,
     "metadata": {},
     "output_type": "execute_result"
    }
   ],
   "source": [
    "df[\"number_of_reviews_ltm\"] = df[\"number_of_reviews_ltm\"].apply(lambda x: resenas(x))\n",
    "df[\"number_of_reviews_ltm\"]"
   ]
  },
  {
   "cell_type": "markdown",
   "metadata": {},
   "source": [
    "### Clasificación de anfitriones "
   ]
  },
  {
   "cell_type": "code",
   "execution_count": 1064,
   "metadata": {},
   "outputs": [
    {
     "data": {
      "text/plain": [
       "<Axes: >"
      ]
     },
     "execution_count": 1064,
     "metadata": {},
     "output_type": "execute_result"
    },
    {
     "data": {
      "image/png": "[encoded data removed]",
      "text/plain": [
       "<Figure size 640x480 with 1 Axes>"
      ]
     },
     "metadata": {},
     "output_type": "display_data"
    }
   ],
   "source": [
    "df[\"calculated_host_listings_count\"].hist()"
   ]
  },
  {
   "cell_type": "code",
   "execution_count": 1065,
   "metadata": {},
   "outputs": [],
   "source": [
    "def anfitriones(x):\n",
    "    if x <= 10:\n",
    "        X = 0\n",
    "    elif x <= 20:\n",
    "        X = 1\n",
    "    elif x <= 30:\n",
    "        X = 2\n",
    "    elif x <= 40:\n",
    "        X = 3\n",
    "    elif x <= 50:\n",
    "        X = 4\n",
    "    elif x <= 100:\n",
    "        X = 5\n",
    "    else:\n",
    "        X = 6\n",
    "    return X"
   ]
  },
  {
   "cell_type": "code",
   "execution_count": 1066,
   "metadata": {},
   "outputs": [
    {
     "data": {
      "text/plain": [
       "0        0\n",
       "1        0\n",
       "2        0\n",
       "3        0\n",
       "4        0\n",
       "        ..\n",
       "25538    5\n",
       "25539    5\n",
       "25540    4\n",
       "25541    6\n",
       "25542    5\n",
       "Name: calculated_host_listings_count, Length: 25543, dtype: int64"
      ]
     },
     "execution_count": 1066,
     "metadata": {},
     "output_type": "execute_result"
    }
   ],
   "source": [
    "df[\"calculated_host_listings_count\"] = df[\"calculated_host_listings_count\"].apply(lambda x: anfitriones(x))\n",
    "df[\"calculated_host_listings_count\"]"
   ]
  },
  {
   "cell_type": "markdown",
   "metadata": {},
   "source": [
    "### Clasificación de reseña por mes"
   ]
  },
  {
   "cell_type": "code",
   "execution_count": 1067,
   "metadata": {},
   "outputs": [
    {
     "data": {
      "text/plain": [
       "<Axes: >"
      ]
     },
     "execution_count": 1067,
     "metadata": {},
     "output_type": "execute_result"
    },
    {
     "data": {
      "image/png": "[encoded data removed]",
      "text/plain": [
       "<Figure size 640x480 with 1 Axes>"
      ]
     },
     "metadata": {},
     "output_type": "display_data"
    }
   ],
   "source": [
    "df[\"reviews_per_month\"].hist()"
   ]
  },
  {
   "cell_type": "code",
   "execution_count": 1068,
   "metadata": {},
   "outputs": [],
   "source": [
    "def resenas_mes(x):\n",
    "    if x <= 2:\n",
    "        X = 1\n",
    "    elif x <= 4:\n",
    "        X = 2\n",
    "    elif x <= 6:\n",
    "        X = 3\n",
    "    elif x <= 8:\n",
    "        X = 4\n",
    "    elif x <= 10:\n",
    "        X = 5\n",
    "    else:\n",
    "        X = 6\n",
    "    return X"
   ]
  },
  {
   "cell_type": "code",
   "execution_count": 1069,
   "metadata": {},
   "outputs": [
    {
     "data": {
      "text/plain": [
       "0        1\n",
       "1        1\n",
       "2        1\n",
       "3        1\n",
       "4        1\n",
       "        ..\n",
       "25538    1\n",
       "25539    1\n",
       "25540    1\n",
       "25541    1\n",
       "25542    1\n",
       "Name: reviews_per_month, Length: 25543, dtype: int64"
      ]
     },
     "execution_count": 1069,
     "metadata": {},
     "output_type": "execute_result"
    }
   ],
   "source": [
    "df[\"reviews_per_month\"] = df[\"reviews_per_month\"].fillna(0)\n",
    "df[\"reviews_per_month\"] = df[\"reviews_per_month\"].apply(lambda x: resenas_mes(x))\n",
    "df[\"reviews_per_month\"]"
   ]
  },
  {
   "cell_type": "markdown",
   "metadata": {},
   "source": [
    "### Clasificación de cantidad de reseñas"
   ]
  },
  {
   "cell_type": "code",
   "execution_count": 1070,
   "metadata": {},
   "outputs": [
    {
     "data": {
      "text/plain": [
       "<Axes: >"
      ]
     },
     "execution_count": 1070,
     "metadata": {},
     "output_type": "execute_result"
    },
    {
     "data": {
      "image/png": "[encoded data removed]",
      "text/plain": [
       "<Figure size 640x480 with 1 Axes>"
      ]
     },
     "metadata": {},
     "output_type": "display_data"
    }
   ],
   "source": [
    "df[\"number_of_reviews\"].hist()"
   ]
  },
  {
   "cell_type": "code",
   "execution_count": 1071,
   "metadata": {},
   "outputs": [],
   "source": [
    "def resenas_cuan(x):\n",
    "    if x <= 25:\n",
    "        X = 0\n",
    "    if x <= 50:\n",
    "        X = 1\n",
    "    elif x <= 100:\n",
    "        X = 2\n",
    "    elif x <= 150:\n",
    "        X = 3\n",
    "    elif x <= 200:\n",
    "        X = 4\n",
    "    else:\n",
    "        X = 5\n",
    "    return X"
   ]
  },
  {
   "cell_type": "code",
   "execution_count": 1072,
   "metadata": {},
   "outputs": [
    {
     "data": {
      "text/plain": [
       "0        3\n",
       "1        4\n",
       "2        1\n",
       "3        1\n",
       "4        1\n",
       "        ..\n",
       "25538    1\n",
       "25539    1\n",
       "25540    1\n",
       "25541    1\n",
       "25542    1\n",
       "Name: number_of_reviews, Length: 25543, dtype: int64"
      ]
     },
     "execution_count": 1072,
     "metadata": {},
     "output_type": "execute_result"
    }
   ],
   "source": [
    "df[\"number_of_reviews\"] = df[\"number_of_reviews\"].apply(lambda x: resenas_cuan(x))\n",
    "df[\"number_of_reviews\"]"
   ]
  },
  {
   "cell_type": "markdown",
   "metadata": {},
   "source": [
    "### Cambio a variable categorica el tipo de cuarto"
   ]
  },
  {
   "cell_type": "code",
   "execution_count": 1073,
   "metadata": {},
   "outputs": [
    {
     "name": "stderr",
     "output_type": "stream",
     "text": [
      "/Users/egmzvalerio/anaconda3/envs/iteso/lib/python3.12/site-packages/sklearn/preprocessing/_label.py:132: DataConversionWarning: A column-vector y was passed when a 1d array was expected. Please change the shape of y to (n_samples, ), for example using ravel().\n",
      "  y = column_or_1d(y, dtype=self.classes_.dtype, warn=True)\n"
     ]
    },
    {
     "data": {
      "text/plain": [
       "0        2\n",
       "1        0\n",
       "2        2\n",
       "3        0\n",
       "4        0\n",
       "        ..\n",
       "25538    0\n",
       "25539    0\n",
       "25540    0\n",
       "25541    0\n",
       "25542    0\n",
       "Name: room_type, Length: 25543, dtype: int64"
      ]
     },
     "execution_count": 1073,
     "metadata": {},
     "output_type": "execute_result"
    }
   ],
   "source": [
    "Le.fit(df[\"room_type\"])\n",
    "df[\"room_type\"] = Le.transform(df[[\"room_type\"]])\n",
    "df[\"room_type\"]"
   ]
  },
  {
   "cell_type": "markdown",
   "metadata": {},
   "source": [
    "### Cambio a variable categorica el tipo de propiedad"
   ]
  },
  {
   "cell_type": "code",
   "execution_count": 1074,
   "metadata": {},
   "outputs": [
    {
     "name": "stderr",
     "output_type": "stream",
     "text": [
      "/Users/egmzvalerio/anaconda3/envs/iteso/lib/python3.12/site-packages/sklearn/preprocessing/_label.py:132: DataConversionWarning: A column-vector y was passed when a 1d array was expected. Please change the shape of y to (n_samples, ), for example using ravel().\n",
      "  y = column_or_1d(y, dtype=self.classes_.dtype, warn=True)\n"
     ]
    },
    {
     "data": {
      "text/plain": [
       "0        26\n",
       "1        26\n",
       "2        26\n",
       "3        26\n",
       "4        21\n",
       "         ..\n",
       "25538    26\n",
       "25539    26\n",
       "25540    26\n",
       "25541    26\n",
       "25542    26\n",
       "Name: type_property, Length: 25543, dtype: int64"
      ]
     },
     "execution_count": 1074,
     "metadata": {},
     "output_type": "execute_result"
    }
   ],
   "source": [
    "Le.fit(df[\"type_property\"])\n",
    "df[\"type_property\"] = Le.transform(df[[\"type_property\"]])\n",
    "df[\"type_property\"]\n"
   ]
  },
  {
   "cell_type": "markdown",
   "metadata": {},
   "source": [
    "### Columnas no numéricas"
   ]
  },
  {
   "cell_type": "code",
   "execution_count": 1075,
   "metadata": {},
   "outputs": [
    {
     "data": {
      "text/plain": [
       "Index(['stars', 'bedrooms', 'beds', 'baths'], dtype='object')"
      ]
     },
     "execution_count": 1075,
     "metadata": {},
     "output_type": "execute_result"
    }
   ],
   "source": [
    "columnas_no_numericas = df.select_dtypes(exclude=[np.number]).columns\n",
    "columnas_no_numericas"
   ]
  },
  {
   "cell_type": "code",
   "execution_count": 1076,
   "metadata": {},
   "outputs": [],
   "source": [
    "df = df.apply(pd.to_numeric, errors='coerce')"
   ]
  },
  {
   "cell_type": "markdown",
   "metadata": {},
   "source": [
    "### Kmeans "
   ]
  },
  {
   "cell_type": "code",
   "execution_count": 1077,
   "metadata": {},
   "outputs": [],
   "source": [
    "X = df.values"
   ]
  },
  {
   "cell_type": "code",
   "execution_count": 1078,
   "metadata": {},
   "outputs": [
    {
     "ename": "ValueError",
     "evalue": "Input X contains NaN.\nKMeans does not accept missing values encoded as NaN natively. For supervised learning, you might want to consider sklearn.ensemble.HistGradientBoostingClassifier and Regressor which accept missing values encoded as NaNs natively. Alternatively, it is possible to preprocess the data, for instance by using an imputer transformer in a pipeline or drop samples with missing values. See https://scikit-learn.org/stable/modules/impute.html You can find a list of all estimators that handle NaN values at the following page: https://scikit-learn.org/stable/modules/impute.html#estimators-that-handle-nan-values",
     "output_type": "error",
     "traceback": [
      "\u001b[0;31m---------------------------------------------------------------------------\u001b[0m",
      "\u001b[0;31mValueError\u001b[0m                                Traceback (most recent call last)",
      "Cell \u001b[0;32mIn[1078], line 4\u001b[0m\n\u001b[1;32m      2\u001b[0m \u001b[38;5;28;01mfor\u001b[39;00m i \u001b[38;5;129;01min\u001b[39;00m \u001b[38;5;28mrange\u001b[39m(\u001b[38;5;241m1\u001b[39m, \u001b[38;5;241m11\u001b[39m):\n\u001b[1;32m      3\u001b[0m     kmeans \u001b[38;5;241m=\u001b[39m KMeans(n_clusters \u001b[38;5;241m=\u001b[39m i, random_state\u001b[38;5;241m=\u001b[39m \u001b[38;5;241m32\u001b[39m)\n\u001b[0;32m----> 4\u001b[0m     kmeans\u001b[38;5;241m.\u001b[39mfit(X)\n\u001b[1;32m      5\u001b[0m     lista\u001b[38;5;241m.\u001b[39mappend(kmeans\u001b[38;5;241m.\u001b[39minertia_)\n",
      "File \u001b[0;32m~/anaconda3/envs/iteso/lib/python3.12/site-packages/sklearn/base.py:1474\u001b[0m, in \u001b[0;36m_fit_context.<locals>.decorator.<locals>.wrapper\u001b[0;34m(estimator, *args, **kwargs)\u001b[0m\n\u001b[1;32m   1467\u001b[0m     estimator\u001b[38;5;241m.\u001b[39m_validate_params()\n\u001b[1;32m   1469\u001b[0m \u001b[38;5;28;01mwith\u001b[39;00m config_context(\n\u001b[1;32m   1470\u001b[0m     skip_parameter_validation\u001b[38;5;241m=\u001b[39m(\n\u001b[1;32m   1471\u001b[0m         prefer_skip_nested_validation \u001b[38;5;129;01mor\u001b[39;00m global_skip_validation\n\u001b[1;32m   1472\u001b[0m     )\n\u001b[1;32m   1473\u001b[0m ):\n\u001b[0;32m-> 1474\u001b[0m     \u001b[38;5;28;01mreturn\u001b[39;00m fit_method(estimator, \u001b[38;5;241m*\u001b[39margs, \u001b[38;5;241m*\u001b[39m\u001b[38;5;241m*\u001b[39mkwargs)\n",
      "File \u001b[0;32m~/anaconda3/envs/iteso/lib/python3.12/site-packages/sklearn/cluster/_kmeans.py:1481\u001b[0m, in \u001b[0;36mKMeans.fit\u001b[0;34m(self, X, y, sample_weight)\u001b[0m\n\u001b[1;32m   1453\u001b[0m \u001b[38;5;129m@_fit_context\u001b[39m(prefer_skip_nested_validation\u001b[38;5;241m=\u001b[39m\u001b[38;5;28;01mTrue\u001b[39;00m)\n\u001b[1;32m   1454\u001b[0m \u001b[38;5;28;01mdef\u001b[39;00m \u001b[38;5;21mfit\u001b[39m(\u001b[38;5;28mself\u001b[39m, X, y\u001b[38;5;241m=\u001b[39m\u001b[38;5;28;01mNone\u001b[39;00m, sample_weight\u001b[38;5;241m=\u001b[39m\u001b[38;5;28;01mNone\u001b[39;00m):\n\u001b[1;32m   1455\u001b[0m \u001b[38;5;250m    \u001b[39m\u001b[38;5;124;03m\"\"\"Compute k-means clustering.\u001b[39;00m\n\u001b[1;32m   1456\u001b[0m \n\u001b[1;32m   1457\u001b[0m \u001b[38;5;124;03m    Parameters\u001b[39;00m\n\u001b[0;32m   (...)\u001b[0m\n\u001b[1;32m   1479\u001b[0m \u001b[38;5;124;03m        Fitted estimator.\u001b[39;00m\n\u001b[1;32m   1480\u001b[0m \u001b[38;5;124;03m    \"\"\"\u001b[39;00m\n\u001b[0;32m-> 1481\u001b[0m     X \u001b[38;5;241m=\u001b[39m \u001b[38;5;28mself\u001b[39m\u001b[38;5;241m.\u001b[39m_validate_data(\n\u001b[1;32m   1482\u001b[0m         X,\n\u001b[1;32m   1483\u001b[0m         accept_sparse\u001b[38;5;241m=\u001b[39m\u001b[38;5;124m\"\u001b[39m\u001b[38;5;124mcsr\u001b[39m\u001b[38;5;124m\"\u001b[39m,\n\u001b[1;32m   1484\u001b[0m         dtype\u001b[38;5;241m=\u001b[39m[np\u001b[38;5;241m.\u001b[39mfloat64, np\u001b[38;5;241m.\u001b[39mfloat32],\n\u001b[1;32m   1485\u001b[0m         order\u001b[38;5;241m=\u001b[39m\u001b[38;5;124m\"\u001b[39m\u001b[38;5;124mC\u001b[39m\u001b[38;5;124m\"\u001b[39m,\n\u001b[1;32m   1486\u001b[0m         copy\u001b[38;5;241m=\u001b[39m\u001b[38;5;28mself\u001b[39m\u001b[38;5;241m.\u001b[39mcopy_x,\n\u001b[1;32m   1487\u001b[0m         accept_large_sparse\u001b[38;5;241m=\u001b[39m\u001b[38;5;28;01mFalse\u001b[39;00m,\n\u001b[1;32m   1488\u001b[0m     )\n\u001b[1;32m   1490\u001b[0m     \u001b[38;5;28mself\u001b[39m\u001b[38;5;241m.\u001b[39m_check_params_vs_input(X)\n\u001b[1;32m   1492\u001b[0m     random_state \u001b[38;5;241m=\u001b[39m check_random_state(\u001b[38;5;28mself\u001b[39m\u001b[38;5;241m.\u001b[39mrandom_state)\n",
      "File \u001b[0;32m~/anaconda3/envs/iteso/lib/python3.12/site-packages/sklearn/base.py:633\u001b[0m, in \u001b[0;36mBaseEstimator._validate_data\u001b[0;34m(self, X, y, reset, validate_separately, cast_to_ndarray, **check_params)\u001b[0m\n\u001b[1;32m    631\u001b[0m         out \u001b[38;5;241m=\u001b[39m X, y\n\u001b[1;32m    632\u001b[0m \u001b[38;5;28;01melif\u001b[39;00m \u001b[38;5;129;01mnot\u001b[39;00m no_val_X \u001b[38;5;129;01mand\u001b[39;00m no_val_y:\n\u001b[0;32m--> 633\u001b[0m     out \u001b[38;5;241m=\u001b[39m check_array(X, input_name\u001b[38;5;241m=\u001b[39m\u001b[38;5;124m\"\u001b[39m\u001b[38;5;124mX\u001b[39m\u001b[38;5;124m\"\u001b[39m, \u001b[38;5;241m*\u001b[39m\u001b[38;5;241m*\u001b[39mcheck_params)\n\u001b[1;32m    634\u001b[0m \u001b[38;5;28;01melif\u001b[39;00m no_val_X \u001b[38;5;129;01mand\u001b[39;00m \u001b[38;5;129;01mnot\u001b[39;00m no_val_y:\n\u001b[1;32m    635\u001b[0m     out \u001b[38;5;241m=\u001b[39m _check_y(y, \u001b[38;5;241m*\u001b[39m\u001b[38;5;241m*\u001b[39mcheck_params)\n",
      "File \u001b[0;32m~/anaconda3/envs/iteso/lib/python3.12/site-packages/sklearn/utils/validation.py:1049\u001b[0m, in \u001b[0;36mcheck_array\u001b[0;34m(array, accept_sparse, accept_large_sparse, dtype, order, copy, force_all_finite, ensure_2d, allow_nd, ensure_min_samples, ensure_min_features, estimator, input_name)\u001b[0m\n\u001b[1;32m   1043\u001b[0m     \u001b[38;5;28;01mraise\u001b[39;00m \u001b[38;5;167;01mValueError\u001b[39;00m(\n\u001b[1;32m   1044\u001b[0m         \u001b[38;5;124m\"\u001b[39m\u001b[38;5;124mFound array with dim \u001b[39m\u001b[38;5;132;01m%d\u001b[39;00m\u001b[38;5;124m. \u001b[39m\u001b[38;5;132;01m%s\u001b[39;00m\u001b[38;5;124m expected <= 2.\u001b[39m\u001b[38;5;124m\"\u001b[39m\n\u001b[1;32m   1045\u001b[0m         \u001b[38;5;241m%\u001b[39m (array\u001b[38;5;241m.\u001b[39mndim, estimator_name)\n\u001b[1;32m   1046\u001b[0m     )\n\u001b[1;32m   1048\u001b[0m \u001b[38;5;28;01mif\u001b[39;00m force_all_finite:\n\u001b[0;32m-> 1049\u001b[0m     _assert_all_finite(\n\u001b[1;32m   1050\u001b[0m         array,\n\u001b[1;32m   1051\u001b[0m         input_name\u001b[38;5;241m=\u001b[39minput_name,\n\u001b[1;32m   1052\u001b[0m         estimator_name\u001b[38;5;241m=\u001b[39mestimator_name,\n\u001b[1;32m   1053\u001b[0m         allow_nan\u001b[38;5;241m=\u001b[39mforce_all_finite \u001b[38;5;241m==\u001b[39m \u001b[38;5;124m\"\u001b[39m\u001b[38;5;124mallow-nan\u001b[39m\u001b[38;5;124m\"\u001b[39m,\n\u001b[1;32m   1054\u001b[0m     )\n\u001b[1;32m   1056\u001b[0m \u001b[38;5;28;01mif\u001b[39;00m copy:\n\u001b[1;32m   1057\u001b[0m     \u001b[38;5;28;01mif\u001b[39;00m _is_numpy_namespace(xp):\n\u001b[1;32m   1058\u001b[0m         \u001b[38;5;66;03m# only make a copy if `array` and `array_orig` may share memory`\u001b[39;00m\n",
      "File \u001b[0;32m~/anaconda3/envs/iteso/lib/python3.12/site-packages/sklearn/utils/validation.py:126\u001b[0m, in \u001b[0;36m_assert_all_finite\u001b[0;34m(X, allow_nan, msg_dtype, estimator_name, input_name)\u001b[0m\n\u001b[1;32m    123\u001b[0m \u001b[38;5;28;01mif\u001b[39;00m first_pass_isfinite:\n\u001b[1;32m    124\u001b[0m     \u001b[38;5;28;01mreturn\u001b[39;00m\n\u001b[0;32m--> 126\u001b[0m _assert_all_finite_element_wise(\n\u001b[1;32m    127\u001b[0m     X,\n\u001b[1;32m    128\u001b[0m     xp\u001b[38;5;241m=\u001b[39mxp,\n\u001b[1;32m    129\u001b[0m     allow_nan\u001b[38;5;241m=\u001b[39mallow_nan,\n\u001b[1;32m    130\u001b[0m     msg_dtype\u001b[38;5;241m=\u001b[39mmsg_dtype,\n\u001b[1;32m    131\u001b[0m     estimator_name\u001b[38;5;241m=\u001b[39mestimator_name,\n\u001b[1;32m    132\u001b[0m     input_name\u001b[38;5;241m=\u001b[39minput_name,\n\u001b[1;32m    133\u001b[0m )\n",
      "File \u001b[0;32m~/anaconda3/envs/iteso/lib/python3.12/site-packages/sklearn/utils/validation.py:175\u001b[0m, in \u001b[0;36m_assert_all_finite_element_wise\u001b[0;34m(X, xp, allow_nan, msg_dtype, estimator_name, input_name)\u001b[0m\n\u001b[1;32m    158\u001b[0m \u001b[38;5;28;01mif\u001b[39;00m estimator_name \u001b[38;5;129;01mand\u001b[39;00m input_name \u001b[38;5;241m==\u001b[39m \u001b[38;5;124m\"\u001b[39m\u001b[38;5;124mX\u001b[39m\u001b[38;5;124m\"\u001b[39m \u001b[38;5;129;01mand\u001b[39;00m has_nan_error:\n\u001b[1;32m    159\u001b[0m     \u001b[38;5;66;03m# Improve the error message on how to handle missing values in\u001b[39;00m\n\u001b[1;32m    160\u001b[0m     \u001b[38;5;66;03m# scikit-learn.\u001b[39;00m\n\u001b[1;32m    161\u001b[0m     msg_err \u001b[38;5;241m+\u001b[39m\u001b[38;5;241m=\u001b[39m (\n\u001b[1;32m    162\u001b[0m         \u001b[38;5;124mf\u001b[39m\u001b[38;5;124m\"\u001b[39m\u001b[38;5;130;01m\\n\u001b[39;00m\u001b[38;5;132;01m{\u001b[39;00mestimator_name\u001b[38;5;132;01m}\u001b[39;00m\u001b[38;5;124m does not accept missing values\u001b[39m\u001b[38;5;124m\"\u001b[39m\n\u001b[1;32m    163\u001b[0m         \u001b[38;5;124m\"\u001b[39m\u001b[38;5;124m encoded as NaN natively. For supervised learning, you might want\u001b[39m\u001b[38;5;124m\"\u001b[39m\n\u001b[0;32m   (...)\u001b[0m\n\u001b[1;32m    173\u001b[0m         \u001b[38;5;124m\"\u001b[39m\u001b[38;5;124m#estimators-that-handle-nan-values\u001b[39m\u001b[38;5;124m\"\u001b[39m\n\u001b[1;32m    174\u001b[0m     )\n\u001b[0;32m--> 175\u001b[0m \u001b[38;5;28;01mraise\u001b[39;00m \u001b[38;5;167;01mValueError\u001b[39;00m(msg_err)\n",
      "\u001b[0;31mValueError\u001b[0m: Input X contains NaN.\nKMeans does not accept missing values encoded as NaN natively. For supervised learning, you might want to consider sklearn.ensemble.HistGradientBoostingClassifier and Regressor which accept missing values encoded as NaNs natively. Alternatively, it is possible to preprocess the data, for instance by using an imputer transformer in a pipeline or drop samples with missing values. See https://scikit-learn.org/stable/modules/impute.html You can find a list of all estimators that handle NaN values at the following page: https://scikit-learn.org/stable/modules/impute.html#estimators-that-handle-nan-values"
     ]
    }
   ],
   "source": [
    "lista = []\n",
    "for i in range(1, 11):\n",
    "    kmeans = KMeans(n_clusters = i, random_state= 32)\n",
    "    kmeans.fit(X)\n",
    "    lista.append(kmeans.inertia_)"
   ]
  }
 ],
 "metadata": {
  "kernelspec": {
   "display_name": "iteso",
   "language": "python",
   "name": "python3"
  },
  "language_info": {
   "codemirror_mode": {
    "name": "ipython",
    "version": 3
   },
   "file_extension": ".py",
   "mimetype": "text/x-python",
   "name": "python",
   "nbconvert_exporter": "python",
   "pygments_lexer": "ipython3",
   "version": "3.12.1"
  }
 },
 "nbformat": 4,
 "nbformat_minor": 2
}
