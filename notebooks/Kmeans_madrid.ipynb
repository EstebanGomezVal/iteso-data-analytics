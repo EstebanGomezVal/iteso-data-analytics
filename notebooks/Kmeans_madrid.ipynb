{
 "cells": [
  {
   "cell_type": "markdown",
   "metadata": {},
   "source": [
    "# Kmeans Madrid"
   ]
  },
  {
   "cell_type": "markdown",
   "metadata": {},
   "source": [
    "### Librerias"
   ]
  },
  {
   "cell_type": "code",
   "execution_count": 900,
   "metadata": {},
   "outputs": [],
   "source": [
    "from sklearn.preprocessing import LabelEncoder\n",
    "import pandas as pd\n",
    "import numpy as np\n",
    "import matplotlib.pyplot as plt\n",
    "import seaborn as sns\n",
    "from sklearn.cluster import KMeans"
   ]
  },
  {
   "cell_type": "markdown",
   "metadata": {},
   "source": [
    "### Dataset"
   ]
  },
  {
   "cell_type": "code",
   "execution_count": 901,
   "metadata": {},
   "outputs": [
    {
     "data": {
      "text/html": [
       "<div>\n",
       "<style scoped>\n",
       "    .dataframe tbody tr th:only-of-type {\n",
       "        vertical-align: middle;\n",
       "    }\n",
       "\n",
       "    .dataframe tbody tr th {\n",
       "        vertical-align: top;\n",
       "    }\n",
       "\n",
       "    .dataframe thead th {\n",
       "        text-align: right;\n",
       "    }\n",
       "</style>\n",
       "<table border=\"1\" class=\"dataframe\">\n",
       "  <thead>\n",
       "    <tr style=\"text-align: right;\">\n",
       "      <th></th>\n",
       "      <th>id</th>\n",
       "      <th>name</th>\n",
       "      <th>host_id</th>\n",
       "      <th>host_name</th>\n",
       "      <th>neighbourhood_group</th>\n",
       "      <th>neighbourhood</th>\n",
       "      <th>latitude</th>\n",
       "      <th>longitude</th>\n",
       "      <th>room_type</th>\n",
       "      <th>price</th>\n",
       "      <th>minimum_nights</th>\n",
       "      <th>number_of_reviews</th>\n",
       "      <th>last_review</th>\n",
       "      <th>reviews_per_month</th>\n",
       "      <th>calculated_host_listings_count</th>\n",
       "      <th>availability_365</th>\n",
       "      <th>number_of_reviews_ltm</th>\n",
       "      <th>license</th>\n",
       "    </tr>\n",
       "  </thead>\n",
       "  <tbody>\n",
       "    <tr>\n",
       "      <th>0</th>\n",
       "      <td>6369</td>\n",
       "      <td>Rental unit in Madrid · ★4.88 · 1 bedroom · 1 ...</td>\n",
       "      <td>13660</td>\n",
       "      <td>Simon</td>\n",
       "      <td>Chamartín</td>\n",
       "      <td>Hispanoamérica</td>\n",
       "      <td>40.45724</td>\n",
       "      <td>-3.67688</td>\n",
       "      <td>Private room</td>\n",
       "      <td>85.0</td>\n",
       "      <td>5</td>\n",
       "      <td>106</td>\n",
       "      <td>2023-10-16</td>\n",
       "      <td>0.63</td>\n",
       "      <td>1</td>\n",
       "      <td>22</td>\n",
       "      <td>4</td>\n",
       "      <td>NaN</td>\n",
       "    </tr>\n",
       "    <tr>\n",
       "      <th>1</th>\n",
       "      <td>30320</td>\n",
       "      <td>Rental unit in Madrid · ★4.63 · 1 bedroom · 2 ...</td>\n",
       "      <td>130907</td>\n",
       "      <td>Dana</td>\n",
       "      <td>Centro</td>\n",
       "      <td>Sol</td>\n",
       "      <td>40.41476</td>\n",
       "      <td>-3.70418</td>\n",
       "      <td>Entire home/apt</td>\n",
       "      <td>65.0</td>\n",
       "      <td>5</td>\n",
       "      <td>172</td>\n",
       "      <td>2022-09-26</td>\n",
       "      <td>1.05</td>\n",
       "      <td>3</td>\n",
       "      <td>0</td>\n",
       "      <td>0</td>\n",
       "      <td>NaN</td>\n",
       "    </tr>\n",
       "    <tr>\n",
       "      <th>2</th>\n",
       "      <td>21853</td>\n",
       "      <td>Rental unit in Madrid · ★4.58 · 1 bedroom · 1 ...</td>\n",
       "      <td>83531</td>\n",
       "      <td>Abdel</td>\n",
       "      <td>Latina</td>\n",
       "      <td>Cármenes</td>\n",
       "      <td>40.40381</td>\n",
       "      <td>-3.74130</td>\n",
       "      <td>Private room</td>\n",
       "      <td>31.0</td>\n",
       "      <td>4</td>\n",
       "      <td>33</td>\n",
       "      <td>2018-07-15</td>\n",
       "      <td>0.30</td>\n",
       "      <td>2</td>\n",
       "      <td>135</td>\n",
       "      <td>0</td>\n",
       "      <td>NaN</td>\n",
       "    </tr>\n",
       "    <tr>\n",
       "      <th>3</th>\n",
       "      <td>24805</td>\n",
       "      <td>Rental unit in Madrid · ★4.91 · 6 bedrooms · 1...</td>\n",
       "      <td>346366726</td>\n",
       "      <td>Alvaro</td>\n",
       "      <td>Centro</td>\n",
       "      <td>Universidad</td>\n",
       "      <td>40.42183</td>\n",
       "      <td>-3.70529</td>\n",
       "      <td>Entire home/apt</td>\n",
       "      <td>94.0</td>\n",
       "      <td>5</td>\n",
       "      <td>33</td>\n",
       "      <td>2023-11-06</td>\n",
       "      <td>0.30</td>\n",
       "      <td>1</td>\n",
       "      <td>168</td>\n",
       "      <td>8</td>\n",
       "      <td>NaN</td>\n",
       "    </tr>\n",
       "    <tr>\n",
       "      <th>4</th>\n",
       "      <td>30959</td>\n",
       "      <td>Loft in Madrid · ★4.38 · 1 bedroom · 1 bed · 1...</td>\n",
       "      <td>132883</td>\n",
       "      <td>Angela</td>\n",
       "      <td>Centro</td>\n",
       "      <td>Embajadores</td>\n",
       "      <td>40.41259</td>\n",
       "      <td>-3.70105</td>\n",
       "      <td>Entire home/apt</td>\n",
       "      <td>NaN</td>\n",
       "      <td>3</td>\n",
       "      <td>8</td>\n",
       "      <td>2017-05-30</td>\n",
       "      <td>0.08</td>\n",
       "      <td>1</td>\n",
       "      <td>0</td>\n",
       "      <td>0</td>\n",
       "      <td>NaN</td>\n",
       "    </tr>\n",
       "  </tbody>\n",
       "</table>\n",
       "</div>"
      ],
      "text/plain": [
       "      id                                               name    host_id  \\\n",
       "0   6369  Rental unit in Madrid · ★4.88 · 1 bedroom · 1 ...      13660   \n",
       "1  30320  Rental unit in Madrid · ★4.63 · 1 bedroom · 2 ...     130907   \n",
       "2  21853  Rental unit in Madrid · ★4.58 · 1 bedroom · 1 ...      83531   \n",
       "3  24805  Rental unit in Madrid · ★4.91 · 6 bedrooms · 1...  346366726   \n",
       "4  30959  Loft in Madrid · ★4.38 · 1 bedroom · 1 bed · 1...     132883   \n",
       "\n",
       "  host_name neighbourhood_group   neighbourhood  latitude  longitude  \\\n",
       "0     Simon           Chamartín  Hispanoamérica  40.45724   -3.67688   \n",
       "1      Dana              Centro             Sol  40.41476   -3.70418   \n",
       "2     Abdel              Latina        Cármenes  40.40381   -3.74130   \n",
       "3    Alvaro              Centro     Universidad  40.42183   -3.70529   \n",
       "4    Angela              Centro     Embajadores  40.41259   -3.70105   \n",
       "\n",
       "         room_type  price  minimum_nights  number_of_reviews last_review  \\\n",
       "0     Private room   85.0               5                106  2023-10-16   \n",
       "1  Entire home/apt   65.0               5                172  2022-09-26   \n",
       "2     Private room   31.0               4                 33  2018-07-15   \n",
       "3  Entire home/apt   94.0               5                 33  2023-11-06   \n",
       "4  Entire home/apt    NaN               3                  8  2017-05-30   \n",
       "\n",
       "   reviews_per_month  calculated_host_listings_count  availability_365  \\\n",
       "0               0.63                               1                22   \n",
       "1               1.05                               3                 0   \n",
       "2               0.30                               2               135   \n",
       "3               0.30                               1               168   \n",
       "4               0.08                               1                 0   \n",
       "\n",
       "   number_of_reviews_ltm license  \n",
       "0                      4     NaN  \n",
       "1                      0     NaN  \n",
       "2                      0     NaN  \n",
       "3                      8     NaN  \n",
       "4                      0     NaN  "
      ]
     },
     "execution_count": 901,
     "metadata": {},
     "output_type": "execute_result"
    }
   ],
   "source": [
    "df = pd.read_csv('/Users/egmzvalerio/apps/iteso-data-analytics/data/raw/Madrid_listings.csv')\n",
    "df.head()"
   ]
  },
  {
   "cell_type": "markdown",
   "metadata": {},
   "source": [
    "### Eliminación de columnas inservibales"
   ]
  },
  {
   "cell_type": "code",
   "execution_count": 902,
   "metadata": {},
   "outputs": [
    {
     "data": {
      "text/html": [
       "<div>\n",
       "<style scoped>\n",
       "    .dataframe tbody tr th:only-of-type {\n",
       "        vertical-align: middle;\n",
       "    }\n",
       "\n",
       "    .dataframe tbody tr th {\n",
       "        vertical-align: top;\n",
       "    }\n",
       "\n",
       "    .dataframe thead th {\n",
       "        text-align: right;\n",
       "    }\n",
       "</style>\n",
       "<table border=\"1\" class=\"dataframe\">\n",
       "  <thead>\n",
       "    <tr style=\"text-align: right;\">\n",
       "      <th></th>\n",
       "      <th>name</th>\n",
       "      <th>neighbourhood_group</th>\n",
       "      <th>neighbourhood</th>\n",
       "      <th>room_type</th>\n",
       "      <th>price</th>\n",
       "      <th>minimum_nights</th>\n",
       "      <th>number_of_reviews</th>\n",
       "      <th>reviews_per_month</th>\n",
       "      <th>calculated_host_listings_count</th>\n",
       "      <th>availability_365</th>\n",
       "      <th>number_of_reviews_ltm</th>\n",
       "    </tr>\n",
       "  </thead>\n",
       "  <tbody>\n",
       "    <tr>\n",
       "      <th>0</th>\n",
       "      <td>Rental unit in Madrid · ★4.88 · 1 bedroom · 1 ...</td>\n",
       "      <td>Chamartín</td>\n",
       "      <td>Hispanoamérica</td>\n",
       "      <td>Private room</td>\n",
       "      <td>85.0</td>\n",
       "      <td>5</td>\n",
       "      <td>106</td>\n",
       "      <td>0.63</td>\n",
       "      <td>1</td>\n",
       "      <td>22</td>\n",
       "      <td>4</td>\n",
       "    </tr>\n",
       "    <tr>\n",
       "      <th>1</th>\n",
       "      <td>Rental unit in Madrid · ★4.63 · 1 bedroom · 2 ...</td>\n",
       "      <td>Centro</td>\n",
       "      <td>Sol</td>\n",
       "      <td>Entire home/apt</td>\n",
       "      <td>65.0</td>\n",
       "      <td>5</td>\n",
       "      <td>172</td>\n",
       "      <td>1.05</td>\n",
       "      <td>3</td>\n",
       "      <td>0</td>\n",
       "      <td>0</td>\n",
       "    </tr>\n",
       "    <tr>\n",
       "      <th>2</th>\n",
       "      <td>Rental unit in Madrid · ★4.58 · 1 bedroom · 1 ...</td>\n",
       "      <td>Latina</td>\n",
       "      <td>Cármenes</td>\n",
       "      <td>Private room</td>\n",
       "      <td>31.0</td>\n",
       "      <td>4</td>\n",
       "      <td>33</td>\n",
       "      <td>0.30</td>\n",
       "      <td>2</td>\n",
       "      <td>135</td>\n",
       "      <td>0</td>\n",
       "    </tr>\n",
       "    <tr>\n",
       "      <th>3</th>\n",
       "      <td>Rental unit in Madrid · ★4.91 · 6 bedrooms · 1...</td>\n",
       "      <td>Centro</td>\n",
       "      <td>Universidad</td>\n",
       "      <td>Entire home/apt</td>\n",
       "      <td>94.0</td>\n",
       "      <td>5</td>\n",
       "      <td>33</td>\n",
       "      <td>0.30</td>\n",
       "      <td>1</td>\n",
       "      <td>168</td>\n",
       "      <td>8</td>\n",
       "    </tr>\n",
       "    <tr>\n",
       "      <th>4</th>\n",
       "      <td>Loft in Madrid · ★4.38 · 1 bedroom · 1 bed · 1...</td>\n",
       "      <td>Centro</td>\n",
       "      <td>Embajadores</td>\n",
       "      <td>Entire home/apt</td>\n",
       "      <td>NaN</td>\n",
       "      <td>3</td>\n",
       "      <td>8</td>\n",
       "      <td>0.08</td>\n",
       "      <td>1</td>\n",
       "      <td>0</td>\n",
       "      <td>0</td>\n",
       "    </tr>\n",
       "  </tbody>\n",
       "</table>\n",
       "</div>"
      ],
      "text/plain": [
       "                                                name neighbourhood_group  \\\n",
       "0  Rental unit in Madrid · ★4.88 · 1 bedroom · 1 ...           Chamartín   \n",
       "1  Rental unit in Madrid · ★4.63 · 1 bedroom · 2 ...              Centro   \n",
       "2  Rental unit in Madrid · ★4.58 · 1 bedroom · 1 ...              Latina   \n",
       "3  Rental unit in Madrid · ★4.91 · 6 bedrooms · 1...              Centro   \n",
       "4  Loft in Madrid · ★4.38 · 1 bedroom · 1 bed · 1...              Centro   \n",
       "\n",
       "    neighbourhood        room_type  price  minimum_nights  number_of_reviews  \\\n",
       "0  Hispanoamérica     Private room   85.0               5                106   \n",
       "1             Sol  Entire home/apt   65.0               5                172   \n",
       "2        Cármenes     Private room   31.0               4                 33   \n",
       "3     Universidad  Entire home/apt   94.0               5                 33   \n",
       "4     Embajadores  Entire home/apt    NaN               3                  8   \n",
       "\n",
       "   reviews_per_month  calculated_host_listings_count  availability_365  \\\n",
       "0               0.63                               1                22   \n",
       "1               1.05                               3                 0   \n",
       "2               0.30                               2               135   \n",
       "3               0.30                               1               168   \n",
       "4               0.08                               1                 0   \n",
       "\n",
       "   number_of_reviews_ltm  \n",
       "0                      4  \n",
       "1                      0  \n",
       "2                      0  \n",
       "3                      8  \n",
       "4                      0  "
      ]
     },
     "execution_count": 902,
     "metadata": {},
     "output_type": "execute_result"
    }
   ],
   "source": [
    "df = df.drop(['host_id', 'host_name', 'last_review', 'license', 'longitude', 'latitude', 'id'], axis = 1)\n",
    "df.head()"
   ]
  },
  {
   "cell_type": "markdown",
   "metadata": {},
   "source": [
    "### Reemplazo de valores faltantes en el precio"
   ]
  },
  {
   "cell_type": "code",
   "execution_count": 903,
   "metadata": {},
   "outputs": [
    {
     "data": {
      "text/plain": [
       "name                                 0\n",
       "neighbourhood_group                  0\n",
       "neighbourhood                        0\n",
       "room_type                            0\n",
       "price                             3809\n",
       "minimum_nights                       0\n",
       "number_of_reviews                    0\n",
       "reviews_per_month                 5367\n",
       "calculated_host_listings_count       0\n",
       "availability_365                     0\n",
       "number_of_reviews_ltm                0\n",
       "dtype: int64"
      ]
     },
     "execution_count": 903,
     "metadata": {},
     "output_type": "execute_result"
    }
   ],
   "source": [
    "df.isna().sum()"
   ]
  },
  {
   "cell_type": "code",
   "execution_count": 904,
   "metadata": {},
   "outputs": [
    {
     "data": {
      "text/plain": [
       "<Axes: >"
      ]
     },
     "execution_count": 904,
     "metadata": {},
     "output_type": "execute_result"
    },
    {
     "data": {
      "image/png": "[encoded data removed]",
      "text/plain": [
       "<Figure size 640x480 with 1 Axes>"
      ]
     },
     "metadata": {},
     "output_type": "display_data"
    }
   ],
   "source": [
    "df['price'].plot(kind = 'box', )"
   ]
  },
  {
   "cell_type": "code",
   "execution_count": 905,
   "metadata": {},
   "outputs": [
    {
     "data": {
      "text/plain": [
       "21000.0"
      ]
     },
     "execution_count": 905,
     "metadata": {},
     "output_type": "execute_result"
    }
   ],
   "source": [
    "df['price'].max()"
   ]
  },
  {
   "cell_type": "code",
   "execution_count": 906,
   "metadata": {},
   "outputs": [
    {
     "name": "stdout",
     "output_type": "stream",
     "text": [
      "La media del precio 129.01605778963835\n"
     ]
    }
   ],
   "source": [
    "media_precio = df['price'].mean()\n",
    "print('La media del precio', media_precio)\n",
    "\n",
    "df['price'].fillna(media_precio, inplace = True)"
   ]
  },
  {
   "cell_type": "markdown",
   "metadata": {},
   "source": [
    "### Comprobar que no haya valores faltantes"
   ]
  },
  {
   "cell_type": "code",
   "execution_count": 907,
   "metadata": {},
   "outputs": [
    {
     "data": {
      "text/plain": [
       "name                                 0\n",
       "neighbourhood_group                  0\n",
       "neighbourhood                        0\n",
       "room_type                            0\n",
       "price                                0\n",
       "minimum_nights                       0\n",
       "number_of_reviews                    0\n",
       "reviews_per_month                 5367\n",
       "calculated_host_listings_count       0\n",
       "availability_365                     0\n",
       "number_of_reviews_ltm                0\n",
       "dtype: int64"
      ]
     },
     "execution_count": 907,
     "metadata": {},
     "output_type": "execute_result"
    }
   ],
   "source": [
    "df.isna().sum()"
   ]
  },
  {
   "cell_type": "code",
   "execution_count": 908,
   "metadata": {},
   "outputs": [],
   "source": [
    "Le = LabelEncoder()"
   ]
  },
  {
   "cell_type": "markdown",
   "metadata": {},
   "source": [
    "### Creación de nuevas variables"
   ]
  },
  {
   "cell_type": "code",
   "execution_count": 909,
   "metadata": {},
   "outputs": [
    {
     "data": {
      "text/html": [
       "<div>\n",
       "<style scoped>\n",
       "    .dataframe tbody tr th:only-of-type {\n",
       "        vertical-align: middle;\n",
       "    }\n",
       "\n",
       "    .dataframe tbody tr th {\n",
       "        vertical-align: top;\n",
       "    }\n",
       "\n",
       "    .dataframe thead th {\n",
       "        text-align: right;\n",
       "    }\n",
       "</style>\n",
       "<table border=\"1\" class=\"dataframe\">\n",
       "  <thead>\n",
       "    <tr style=\"text-align: right;\">\n",
       "      <th></th>\n",
       "      <th>name</th>\n",
       "      <th>neighbourhood_group</th>\n",
       "      <th>neighbourhood</th>\n",
       "      <th>room_type</th>\n",
       "      <th>price</th>\n",
       "      <th>minimum_nights</th>\n",
       "      <th>number_of_reviews</th>\n",
       "      <th>reviews_per_month</th>\n",
       "      <th>calculated_host_listings_count</th>\n",
       "      <th>availability_365</th>\n",
       "      <th>number_of_reviews_ltm</th>\n",
       "      <th>type_property</th>\n",
       "      <th>stars</th>\n",
       "      <th>bedrooms</th>\n",
       "      <th>beds</th>\n",
       "      <th>baths</th>\n",
       "    </tr>\n",
       "  </thead>\n",
       "  <tbody>\n",
       "    <tr>\n",
       "      <th>0</th>\n",
       "      <td>Rental unit in Madrid · ★4.88 · 1 bedroom · 1 ...</td>\n",
       "      <td>Chamartín</td>\n",
       "      <td>Hispanoamérica</td>\n",
       "      <td>Private room</td>\n",
       "      <td>85.000000</td>\n",
       "      <td>5</td>\n",
       "      <td>106</td>\n",
       "      <td>0.63</td>\n",
       "      <td>1</td>\n",
       "      <td>22</td>\n",
       "      <td>4</td>\n",
       "      <td>Rental unit in Madrid</td>\n",
       "      <td>★4.88</td>\n",
       "      <td>1 bedroom</td>\n",
       "      <td>1 bed</td>\n",
       "      <td>1 private bath</td>\n",
       "    </tr>\n",
       "    <tr>\n",
       "      <th>1</th>\n",
       "      <td>Rental unit in Madrid · ★4.63 · 1 bedroom · 2 ...</td>\n",
       "      <td>Centro</td>\n",
       "      <td>Sol</td>\n",
       "      <td>Entire home/apt</td>\n",
       "      <td>65.000000</td>\n",
       "      <td>5</td>\n",
       "      <td>172</td>\n",
       "      <td>1.05</td>\n",
       "      <td>3</td>\n",
       "      <td>0</td>\n",
       "      <td>0</td>\n",
       "      <td>Rental unit in Madrid</td>\n",
       "      <td>★4.63</td>\n",
       "      <td>1 bedroom</td>\n",
       "      <td>2 beds</td>\n",
       "      <td>1 bath</td>\n",
       "    </tr>\n",
       "    <tr>\n",
       "      <th>2</th>\n",
       "      <td>Rental unit in Madrid · ★4.58 · 1 bedroom · 1 ...</td>\n",
       "      <td>Latina</td>\n",
       "      <td>Cármenes</td>\n",
       "      <td>Private room</td>\n",
       "      <td>31.000000</td>\n",
       "      <td>4</td>\n",
       "      <td>33</td>\n",
       "      <td>0.30</td>\n",
       "      <td>2</td>\n",
       "      <td>135</td>\n",
       "      <td>0</td>\n",
       "      <td>Rental unit in Madrid</td>\n",
       "      <td>★4.58</td>\n",
       "      <td>1 bedroom</td>\n",
       "      <td>1 bed</td>\n",
       "      <td>1 bath</td>\n",
       "    </tr>\n",
       "    <tr>\n",
       "      <th>3</th>\n",
       "      <td>Rental unit in Madrid · ★4.91 · 6 bedrooms · 1...</td>\n",
       "      <td>Centro</td>\n",
       "      <td>Universidad</td>\n",
       "      <td>Entire home/apt</td>\n",
       "      <td>94.000000</td>\n",
       "      <td>5</td>\n",
       "      <td>33</td>\n",
       "      <td>0.30</td>\n",
       "      <td>1</td>\n",
       "      <td>168</td>\n",
       "      <td>8</td>\n",
       "      <td>Rental unit in Madrid</td>\n",
       "      <td>★4.91</td>\n",
       "      <td>6 bedrooms</td>\n",
       "      <td>1 bed</td>\n",
       "      <td>1 bath</td>\n",
       "    </tr>\n",
       "    <tr>\n",
       "      <th>4</th>\n",
       "      <td>Loft in Madrid · ★4.38 · 1 bedroom · 1 bed · 1...</td>\n",
       "      <td>Centro</td>\n",
       "      <td>Embajadores</td>\n",
       "      <td>Entire home/apt</td>\n",
       "      <td>129.016058</td>\n",
       "      <td>3</td>\n",
       "      <td>8</td>\n",
       "      <td>0.08</td>\n",
       "      <td>1</td>\n",
       "      <td>0</td>\n",
       "      <td>0</td>\n",
       "      <td>Loft in Madrid</td>\n",
       "      <td>★4.38</td>\n",
       "      <td>1 bedroom</td>\n",
       "      <td>1 bed</td>\n",
       "      <td>1 bath</td>\n",
       "    </tr>\n",
       "  </tbody>\n",
       "</table>\n",
       "</div>"
      ],
      "text/plain": [
       "                                                name neighbourhood_group  \\\n",
       "0  Rental unit in Madrid · ★4.88 · 1 bedroom · 1 ...           Chamartín   \n",
       "1  Rental unit in Madrid · ★4.63 · 1 bedroom · 2 ...              Centro   \n",
       "2  Rental unit in Madrid · ★4.58 · 1 bedroom · 1 ...              Latina   \n",
       "3  Rental unit in Madrid · ★4.91 · 6 bedrooms · 1...              Centro   \n",
       "4  Loft in Madrid · ★4.38 · 1 bedroom · 1 bed · 1...              Centro   \n",
       "\n",
       "    neighbourhood        room_type       price  minimum_nights  \\\n",
       "0  Hispanoamérica     Private room   85.000000               5   \n",
       "1             Sol  Entire home/apt   65.000000               5   \n",
       "2        Cármenes     Private room   31.000000               4   \n",
       "3     Universidad  Entire home/apt   94.000000               5   \n",
       "4     Embajadores  Entire home/apt  129.016058               3   \n",
       "\n",
       "   number_of_reviews  reviews_per_month  calculated_host_listings_count  \\\n",
       "0                106               0.63                               1   \n",
       "1                172               1.05                               3   \n",
       "2                 33               0.30                               2   \n",
       "3                 33               0.30                               1   \n",
       "4                  8               0.08                               1   \n",
       "\n",
       "   availability_365  number_of_reviews_ltm          type_property  stars  \\\n",
       "0                22                      4  Rental unit in Madrid  ★4.88   \n",
       "1                 0                      0  Rental unit in Madrid  ★4.63   \n",
       "2               135                      0  Rental unit in Madrid  ★4.58   \n",
       "3               168                      8  Rental unit in Madrid  ★4.91   \n",
       "4                 0                      0         Loft in Madrid  ★4.38   \n",
       "\n",
       "     bedrooms    beds           baths  \n",
       "0   1 bedroom   1 bed  1 private bath  \n",
       "1   1 bedroom  2 beds          1 bath  \n",
       "2   1 bedroom   1 bed          1 bath  \n",
       "3  6 bedrooms   1 bed          1 bath  \n",
       "4   1 bedroom   1 bed          1 bath  "
      ]
     },
     "execution_count": 909,
     "metadata": {},
     "output_type": "execute_result"
    }
   ],
   "source": [
    "df[['type_property', 'stars', 'bedrooms', 'beds', 'baths']] = df['name'].str.split(' · ', expand = True)\n",
    "df.head()"
   ]
  },
  {
   "cell_type": "markdown",
   "metadata": {},
   "source": [
    "### Tipo de propiedad"
   ]
  },
  {
   "cell_type": "code",
   "execution_count": 910,
   "metadata": {},
   "outputs": [
    {
     "data": {
      "text/plain": [
       "0        Rental\n",
       "1        Rental\n",
       "2        Rental\n",
       "3        Rental\n",
       "4        Rental\n",
       "          ...  \n",
       "25538    Rental\n",
       "25539    Rental\n",
       "25540    Rental\n",
       "25541    Rental\n",
       "25542    Rental\n",
       "Name: type_property, Length: 25543, dtype: object"
      ]
     },
     "execution_count": 910,
     "metadata": {},
     "output_type": "execute_result"
    }
   ],
   "source": [
    "df['type_property'] = df['type_property'].str.split(' ')\n",
    "for i in df['type_property']:\n",
    "    df['type_property'] = i[0]\n",
    "df['type_property']"
   ]
  },
  {
   "cell_type": "markdown",
   "metadata": {},
   "source": [
    "### Rating"
   ]
  },
  {
   "cell_type": "code",
   "execution_count": 911,
   "metadata": {},
   "outputs": [
    {
     "data": {
      "text/plain": [
       "0        4.88\n",
       "1        4.63\n",
       "2        4.58\n",
       "3        4.91\n",
       "4        4.38\n",
       "         ... \n",
       "25538     New\n",
       "25539     New\n",
       "25540     New\n",
       "25541     New\n",
       "25542     New\n",
       "Name: stars, Length: 25543, dtype: object"
      ]
     },
     "execution_count": 911,
     "metadata": {},
     "output_type": "execute_result"
    }
   ],
   "source": [
    "df['stars'] = df['stars'].str.replace('★', '')\n",
    "df['stars']"
   ]
  },
  {
   "cell_type": "markdown",
   "metadata": {},
   "source": [
    "### Cantidad de baños"
   ]
  },
  {
   "cell_type": "code",
   "execution_count": 912,
   "metadata": {},
   "outputs": [
    {
     "data": {
      "text/plain": [
       "0        1\n",
       "1        1\n",
       "2        1\n",
       "3        6\n",
       "4        1\n",
       "        ..\n",
       "25538    2\n",
       "25539    1\n",
       "25540    1\n",
       "25541    2\n",
       "25542    1\n",
       "Name: bedrooms, Length: 25543, dtype: object"
      ]
     },
     "execution_count": 912,
     "metadata": {},
     "output_type": "execute_result"
    }
   ],
   "source": [
    "df['bedrooms'] = df['bedrooms'].astype(str).str[0]\n",
    "df['bedrooms'] "
   ]
  },
  {
   "cell_type": "markdown",
   "metadata": {},
   "source": [
    "### Cantidad de camas"
   ]
  },
  {
   "cell_type": "code",
   "execution_count": 913,
   "metadata": {},
   "outputs": [
    {
     "data": {
      "text/plain": [
       "0        1\n",
       "1        2\n",
       "2        1\n",
       "3        1\n",
       "4        1\n",
       "        ..\n",
       "25538    3\n",
       "25539    1\n",
       "25540    1\n",
       "25541    4\n",
       "25542    3\n",
       "Name: beds, Length: 25543, dtype: object"
      ]
     },
     "execution_count": 913,
     "metadata": {},
     "output_type": "execute_result"
    }
   ],
   "source": [
    "df['beds'] = df['beds'].astype(str).str[0]\n",
    "df['beds'] "
   ]
  },
  {
   "cell_type": "markdown",
   "metadata": {},
   "source": [
    "### Cantidad de duchas"
   ]
  },
  {
   "cell_type": "code",
   "execution_count": 914,
   "metadata": {},
   "outputs": [
    {
     "data": {
      "text/plain": [
       "0        1\n",
       "1        1\n",
       "2        1\n",
       "3        1\n",
       "4        1\n",
       "        ..\n",
       "25538    1\n",
       "25539    1\n",
       "25540    1\n",
       "25541    1\n",
       "25542    1\n",
       "Name: baths, Length: 25543, dtype: object"
      ]
     },
     "execution_count": 914,
     "metadata": {},
     "output_type": "execute_result"
    }
   ],
   "source": [
    "df['baths'] = df['baths'].astype(str).str[0]\n",
    "df['baths'] "
   ]
  },
  {
   "cell_type": "code",
   "execution_count": 915,
   "metadata": {},
   "outputs": [],
   "source": [
    "df = df.drop('name', axis = 1)"
   ]
  },
  {
   "cell_type": "markdown",
   "metadata": {},
   "source": [
    "### Disponibilidad en meses"
   ]
  },
  {
   "cell_type": "code",
   "execution_count": 916,
   "metadata": {},
   "outputs": [
    {
     "data": {
      "text/plain": [
       "0         1\n",
       "1         0\n",
       "2         4\n",
       "3         6\n",
       "4         0\n",
       "         ..\n",
       "25538    10\n",
       "25539     6\n",
       "25540    11\n",
       "25541    11\n",
       "25542    10\n",
       "Name: availability_365, Length: 25543, dtype: int64"
      ]
     },
     "execution_count": 916,
     "metadata": {},
     "output_type": "execute_result"
    }
   ],
   "source": [
    "df[\"availability_365\"] = df[\"availability_365\"].apply(lambda x: round(x/30))\n",
    "df[\"availability_365\"]"
   ]
  },
  {
   "cell_type": "markdown",
   "metadata": {},
   "source": [
    "### Variable neigbourhood a variable categórica"
   ]
  },
  {
   "cell_type": "code",
   "execution_count": 917,
   "metadata": {},
   "outputs": [
    {
     "name": "stderr",
     "output_type": "stream",
     "text": [
      "/Users/egmzvalerio/anaconda3/envs/iteso/lib/python3.12/site-packages/sklearn/preprocessing/_label.py:132: DataConversionWarning: A column-vector y was passed when a 1d array was expected. Please change the shape of y to (n_samples, ), for example using ravel().\n",
      "  y = column_or_1d(y, dtype=self.classes_.dtype, warn=True)\n"
     ]
    },
    {
     "data": {
      "text/plain": [
       "0         58\n",
       "1        111\n",
       "2         43\n",
       "3        114\n",
       "4         49\n",
       "        ... \n",
       "25538    124\n",
       "25539     56\n",
       "25540     31\n",
       "25541     13\n",
       "25542     62\n",
       "Name: neighbourhood, Length: 25543, dtype: int64"
      ]
     },
     "execution_count": 917,
     "metadata": {},
     "output_type": "execute_result"
    }
   ],
   "source": [
    "Le.fit(df[\"neighbourhood\"])\n",
    "df[\"neighbourhood\"] = Le.transform(df[[\"neighbourhood\"]])\n",
    "df[\"neighbourhood\"]"
   ]
  },
  {
   "cell_type": "code",
   "execution_count": 918,
   "metadata": {},
   "outputs": [
    {
     "name": "stderr",
     "output_type": "stream",
     "text": [
      "/Users/egmzvalerio/anaconda3/envs/iteso/lib/python3.12/site-packages/sklearn/preprocessing/_label.py:132: DataConversionWarning: A column-vector y was passed when a 1d array was expected. Please change the shape of y to (n_samples, ), for example using ravel().\n",
      "  y = column_or_1d(y, dtype=self.classes_.dtype, warn=True)\n"
     ]
    },
    {
     "data": {
      "text/plain": [
       "0         4\n",
       "1         3\n",
       "2         9\n",
       "3         3\n",
       "4         3\n",
       "         ..\n",
       "25538    17\n",
       "25539    14\n",
       "25540    16\n",
       "25541     5\n",
       "25542     3\n",
       "Name: neighbourhood_group, Length: 25543, dtype: int64"
      ]
     },
     "execution_count": 918,
     "metadata": {},
     "output_type": "execute_result"
    }
   ],
   "source": [
    "Le.fit(df[\"neighbourhood_group\"])\n",
    "df[\"neighbourhood_group\"] = Le.transform(df[[\"neighbourhood_group\"]])\n",
    "df[\"neighbourhood_group\"]"
   ]
  },
  {
   "cell_type": "markdown",
   "metadata": {},
   "source": [
    "### Clasificación de reviews_ltm cada 10 reviews"
   ]
  },
  {
   "cell_type": "code",
   "execution_count": 919,
   "metadata": {},
   "outputs": [
    {
     "data": {
      "text/plain": [
       "<Axes: >"
      ]
     },
     "execution_count": 919,
     "metadata": {},
     "output_type": "execute_result"
    },
    {
     "data": {
      "image/png": "[encoded data removed]",
      "text/plain": [
       "<Figure size 640x480 with 1 Axes>"
      ]
     },
     "metadata": {},
     "output_type": "display_data"
    }
   ],
   "source": [
    "df[\"number_of_reviews_ltm\"].hist()"
   ]
  },
  {
   "cell_type": "code",
   "execution_count": 920,
   "metadata": {},
   "outputs": [],
   "source": [
    "def resenas(x):\n",
    "    if x <= 10:\n",
    "        X = 0\n",
    "    elif x <= 20:\n",
    "        X = 1\n",
    "    elif x <= 30:\n",
    "        X = 2\n",
    "    elif x <= 40:\n",
    "        X = 3\n",
    "    elif x <= 50:\n",
    "        X = 4\n",
    "    elif x <= 60:\n",
    "        X = 5\n",
    "    elif x <= 70:\n",
    "        X = 6\n",
    "    elif x <= 80:\n",
    "        X = 7\n",
    "    elif x <= 90:\n",
    "        X = 8\n",
    "    else:\n",
    "        X = 9\n",
    "    return X"
   ]
  },
  {
   "cell_type": "code",
   "execution_count": 921,
   "metadata": {},
   "outputs": [
    {
     "data": {
      "text/plain": [
       "0        0\n",
       "1        0\n",
       "2        0\n",
       "3        0\n",
       "4        0\n",
       "        ..\n",
       "25538    0\n",
       "25539    0\n",
       "25540    0\n",
       "25541    0\n",
       "25542    0\n",
       "Name: number_of_reviews_ltm, Length: 25543, dtype: int64"
      ]
     },
     "execution_count": 921,
     "metadata": {},
     "output_type": "execute_result"
    }
   ],
   "source": [
    "df[\"number_of_reviews_ltm\"] = df[\"number_of_reviews_ltm\"].apply(lambda x: resenas(x))\n",
    "df[\"number_of_reviews_ltm\"]"
   ]
  },
  {
   "cell_type": "markdown",
   "metadata": {},
   "source": [
    "### Clasificación de anfitriones "
   ]
  },
  {
   "cell_type": "code",
   "execution_count": 922,
   "metadata": {},
   "outputs": [
    {
     "data": {
      "text/plain": [
       "<Axes: >"
      ]
     },
     "execution_count": 922,
     "metadata": {},
     "output_type": "execute_result"
    },
    {
     "data": {
      "image/png": "[encoded data removed]",
      "text/plain": [
       "<Figure size 640x480 with 1 Axes>"
      ]
     },
     "metadata": {},
     "output_type": "display_data"
    }
   ],
   "source": [
    "df[\"calculated_host_listings_count\"].hist()"
   ]
  },
  {
   "cell_type": "code",
   "execution_count": 923,
   "metadata": {},
   "outputs": [],
   "source": [
    "def anfitriones(x):\n",
    "    if x <= 10:\n",
    "        X = 0\n",
    "    elif x <= 20:\n",
    "        X = 1\n",
    "    elif x <= 30:\n",
    "        X = 2\n",
    "    elif x <= 40:\n",
    "        X = 3\n",
    "    elif x <= 50:\n",
    "        X = 4\n",
    "    elif x <= 100:\n",
    "        X = 5\n",
    "    else:\n",
    "        X = 6\n",
    "    return X"
   ]
  },
  {
   "cell_type": "code",
   "execution_count": 924,
   "metadata": {},
   "outputs": [
    {
     "data": {
      "text/plain": [
       "0        0\n",
       "1        0\n",
       "2        0\n",
       "3        0\n",
       "4        0\n",
       "        ..\n",
       "25538    5\n",
       "25539    5\n",
       "25540    4\n",
       "25541    6\n",
       "25542    5\n",
       "Name: calculated_host_listings_count, Length: 25543, dtype: int64"
      ]
     },
     "execution_count": 924,
     "metadata": {},
     "output_type": "execute_result"
    }
   ],
   "source": [
    "df[\"calculated_host_listings_count\"] = df[\"calculated_host_listings_count\"].apply(lambda x: anfitriones(x))\n",
    "df[\"calculated_host_listings_count\"]"
   ]
  },
  {
   "cell_type": "markdown",
   "metadata": {},
   "source": [
    "### Clasificación de reseña por mes"
   ]
  },
  {
   "cell_type": "code",
   "execution_count": 925,
   "metadata": {},
   "outputs": [
    {
     "data": {
      "text/plain": [
       "<Axes: >"
      ]
     },
     "execution_count": 925,
     "metadata": {},
     "output_type": "execute_result"
    },
    {
     "data": {
      "image/png": "[encoded data removed]",
      "text/plain": [
       "<Figure size 640x480 with 1 Axes>"
      ]
     },
     "metadata": {},
     "output_type": "display_data"
    }
   ],
   "source": [
    "df[\"reviews_per_month\"].hist()"
   ]
  },
  {
   "cell_type": "code",
   "execution_count": 926,
   "metadata": {},
   "outputs": [],
   "source": [
    "def resenas_mes(x):\n",
    "    if x <= 2:\n",
    "        X = 1\n",
    "    elif x <= 4:\n",
    "        X = 2\n",
    "    elif x <= 6:\n",
    "        X = 3\n",
    "    elif x <= 8:\n",
    "        X = 4\n",
    "    elif x <= 10:\n",
    "        X = 5\n",
    "    else:\n",
    "        X = 6\n",
    "    return X"
   ]
  },
  {
   "cell_type": "code",
   "execution_count": 927,
   "metadata": {},
   "outputs": [
    {
     "data": {
      "text/plain": [
       "0        1\n",
       "1        1\n",
       "2        1\n",
       "3        1\n",
       "4        1\n",
       "        ..\n",
       "25538    1\n",
       "25539    1\n",
       "25540    1\n",
       "25541    1\n",
       "25542    1\n",
       "Name: reviews_per_month, Length: 25543, dtype: int64"
      ]
     },
     "execution_count": 927,
     "metadata": {},
     "output_type": "execute_result"
    }
   ],
   "source": [
    "df[\"reviews_per_month\"] = df[\"reviews_per_month\"].fillna(0)\n",
    "df[\"reviews_per_month\"] = df[\"reviews_per_month\"].apply(lambda x: resenas_mes(x))\n",
    "df[\"reviews_per_month\"]"
   ]
  },
  {
   "cell_type": "markdown",
   "metadata": {},
   "source": [
    "### Clasificación de cantidad de reseñas"
   ]
  },
  {
   "cell_type": "code",
   "execution_count": 928,
   "metadata": {},
   "outputs": [
    {
     "data": {
      "text/plain": [
       "<Axes: >"
      ]
     },
     "execution_count": 928,
     "metadata": {},
     "output_type": "execute_result"
    },
    {
     "data": {
      "image/png": "[encoded data removed]",
      "text/plain": [
       "<Figure size 640x480 with 1 Axes>"
      ]
     },
     "metadata": {},
     "output_type": "display_data"
    }
   ],
   "source": [
    "df[\"number_of_reviews\"].hist()"
   ]
  },
  {
   "cell_type": "code",
   "execution_count": 929,
   "metadata": {},
   "outputs": [],
   "source": [
    "def resenas_cuan(x):\n",
    "    if x <= 25:\n",
    "        X = 0\n",
    "    if x <= 50:\n",
    "        X = 1\n",
    "    elif x <= 100:\n",
    "        X = 2\n",
    "    elif x <= 150:\n",
    "        X = 3\n",
    "    elif x <= 200:\n",
    "        X = 4\n",
    "    else:\n",
    "        X = 5\n",
    "    return X"
   ]
  },
  {
   "cell_type": "code",
   "execution_count": 930,
   "metadata": {},
   "outputs": [
    {
     "data": {
      "text/plain": [
       "0        3\n",
       "1        4\n",
       "2        1\n",
       "3        1\n",
       "4        1\n",
       "        ..\n",
       "25538    1\n",
       "25539    1\n",
       "25540    1\n",
       "25541    1\n",
       "25542    1\n",
       "Name: number_of_reviews, Length: 25543, dtype: int64"
      ]
     },
     "execution_count": 930,
     "metadata": {},
     "output_type": "execute_result"
    }
   ],
   "source": [
    "df[\"number_of_reviews\"] = df[\"number_of_reviews\"].apply(lambda x: resenas_cuan(x))\n",
    "df[\"number_of_reviews\"]"
   ]
  },
  {
   "cell_type": "markdown",
   "metadata": {},
   "source": [
    "### Cambio a variable categorica el tipo de cuarto"
   ]
  },
  {
   "cell_type": "code",
   "execution_count": 931,
   "metadata": {},
   "outputs": [
    {
     "name": "stderr",
     "output_type": "stream",
     "text": [
      "/Users/egmzvalerio/anaconda3/envs/iteso/lib/python3.12/site-packages/sklearn/preprocessing/_label.py:132: DataConversionWarning: A column-vector y was passed when a 1d array was expected. Please change the shape of y to (n_samples, ), for example using ravel().\n",
      "  y = column_or_1d(y, dtype=self.classes_.dtype, warn=True)\n"
     ]
    },
    {
     "data": {
      "text/html": [
       "<div>\n",
       "<style scoped>\n",
       "    .dataframe tbody tr th:only-of-type {\n",
       "        vertical-align: middle;\n",
       "    }\n",
       "\n",
       "    .dataframe tbody tr th {\n",
       "        vertical-align: top;\n",
       "    }\n",
       "\n",
       "    .dataframe thead th {\n",
       "        text-align: right;\n",
       "    }\n",
       "</style>\n",
       "<table border=\"1\" class=\"dataframe\">\n",
       "  <thead>\n",
       "    <tr style=\"text-align: right;\">\n",
       "      <th></th>\n",
       "      <th>neighbourhood_group</th>\n",
       "      <th>neighbourhood</th>\n",
       "      <th>room_type</th>\n",
       "      <th>price</th>\n",
       "      <th>minimum_nights</th>\n",
       "      <th>number_of_reviews</th>\n",
       "      <th>reviews_per_month</th>\n",
       "      <th>calculated_host_listings_count</th>\n",
       "      <th>availability_365</th>\n",
       "      <th>number_of_reviews_ltm</th>\n",
       "      <th>type_property</th>\n",
       "      <th>stars</th>\n",
       "      <th>bedrooms</th>\n",
       "      <th>beds</th>\n",
       "      <th>baths</th>\n",
       "    </tr>\n",
       "  </thead>\n",
       "  <tbody>\n",
       "    <tr>\n",
       "      <th>0</th>\n",
       "      <td>4</td>\n",
       "      <td>58</td>\n",
       "      <td>2</td>\n",
       "      <td>85.000000</td>\n",
       "      <td>5</td>\n",
       "      <td>3</td>\n",
       "      <td>1</td>\n",
       "      <td>0</td>\n",
       "      <td>1</td>\n",
       "      <td>0</td>\n",
       "      <td>Rental</td>\n",
       "      <td>4.88</td>\n",
       "      <td>1</td>\n",
       "      <td>1</td>\n",
       "      <td>1</td>\n",
       "    </tr>\n",
       "    <tr>\n",
       "      <th>1</th>\n",
       "      <td>3</td>\n",
       "      <td>111</td>\n",
       "      <td>0</td>\n",
       "      <td>65.000000</td>\n",
       "      <td>5</td>\n",
       "      <td>4</td>\n",
       "      <td>1</td>\n",
       "      <td>0</td>\n",
       "      <td>0</td>\n",
       "      <td>0</td>\n",
       "      <td>Rental</td>\n",
       "      <td>4.63</td>\n",
       "      <td>1</td>\n",
       "      <td>2</td>\n",
       "      <td>1</td>\n",
       "    </tr>\n",
       "    <tr>\n",
       "      <th>2</th>\n",
       "      <td>9</td>\n",
       "      <td>43</td>\n",
       "      <td>2</td>\n",
       "      <td>31.000000</td>\n",
       "      <td>4</td>\n",
       "      <td>1</td>\n",
       "      <td>1</td>\n",
       "      <td>0</td>\n",
       "      <td>4</td>\n",
       "      <td>0</td>\n",
       "      <td>Rental</td>\n",
       "      <td>4.58</td>\n",
       "      <td>1</td>\n",
       "      <td>1</td>\n",
       "      <td>1</td>\n",
       "    </tr>\n",
       "    <tr>\n",
       "      <th>3</th>\n",
       "      <td>3</td>\n",
       "      <td>114</td>\n",
       "      <td>0</td>\n",
       "      <td>94.000000</td>\n",
       "      <td>5</td>\n",
       "      <td>1</td>\n",
       "      <td>1</td>\n",
       "      <td>0</td>\n",
       "      <td>6</td>\n",
       "      <td>0</td>\n",
       "      <td>Rental</td>\n",
       "      <td>4.91</td>\n",
       "      <td>6</td>\n",
       "      <td>1</td>\n",
       "      <td>1</td>\n",
       "    </tr>\n",
       "    <tr>\n",
       "      <th>4</th>\n",
       "      <td>3</td>\n",
       "      <td>49</td>\n",
       "      <td>0</td>\n",
       "      <td>129.016058</td>\n",
       "      <td>3</td>\n",
       "      <td>1</td>\n",
       "      <td>1</td>\n",
       "      <td>0</td>\n",
       "      <td>0</td>\n",
       "      <td>0</td>\n",
       "      <td>Rental</td>\n",
       "      <td>4.38</td>\n",
       "      <td>1</td>\n",
       "      <td>1</td>\n",
       "      <td>1</td>\n",
       "    </tr>\n",
       "    <tr>\n",
       "      <th>...</th>\n",
       "      <td>...</td>\n",
       "      <td>...</td>\n",
       "      <td>...</td>\n",
       "      <td>...</td>\n",
       "      <td>...</td>\n",
       "      <td>...</td>\n",
       "      <td>...</td>\n",
       "      <td>...</td>\n",
       "      <td>...</td>\n",
       "      <td>...</td>\n",
       "      <td>...</td>\n",
       "      <td>...</td>\n",
       "      <td>...</td>\n",
       "      <td>...</td>\n",
       "      <td>...</td>\n",
       "    </tr>\n",
       "    <tr>\n",
       "      <th>25538</th>\n",
       "      <td>17</td>\n",
       "      <td>124</td>\n",
       "      <td>0</td>\n",
       "      <td>120.000000</td>\n",
       "      <td>1</td>\n",
       "      <td>1</td>\n",
       "      <td>1</td>\n",
       "      <td>5</td>\n",
       "      <td>10</td>\n",
       "      <td>0</td>\n",
       "      <td>Rental</td>\n",
       "      <td>New</td>\n",
       "      <td>2</td>\n",
       "      <td>3</td>\n",
       "      <td>1</td>\n",
       "    </tr>\n",
       "    <tr>\n",
       "      <th>25539</th>\n",
       "      <td>14</td>\n",
       "      <td>56</td>\n",
       "      <td>0</td>\n",
       "      <td>120.000000</td>\n",
       "      <td>1</td>\n",
       "      <td>1</td>\n",
       "      <td>1</td>\n",
       "      <td>5</td>\n",
       "      <td>6</td>\n",
       "      <td>0</td>\n",
       "      <td>Rental</td>\n",
       "      <td>New</td>\n",
       "      <td>1</td>\n",
       "      <td>1</td>\n",
       "      <td>1</td>\n",
       "    </tr>\n",
       "    <tr>\n",
       "      <th>25540</th>\n",
       "      <td>16</td>\n",
       "      <td>31</td>\n",
       "      <td>0</td>\n",
       "      <td>171.000000</td>\n",
       "      <td>1</td>\n",
       "      <td>1</td>\n",
       "      <td>1</td>\n",
       "      <td>4</td>\n",
       "      <td>11</td>\n",
       "      <td>0</td>\n",
       "      <td>Rental</td>\n",
       "      <td>New</td>\n",
       "      <td>1</td>\n",
       "      <td>1</td>\n",
       "      <td>1</td>\n",
       "    </tr>\n",
       "    <tr>\n",
       "      <th>25541</th>\n",
       "      <td>5</td>\n",
       "      <td>13</td>\n",
       "      <td>0</td>\n",
       "      <td>74.000000</td>\n",
       "      <td>31</td>\n",
       "      <td>1</td>\n",
       "      <td>1</td>\n",
       "      <td>6</td>\n",
       "      <td>11</td>\n",
       "      <td>0</td>\n",
       "      <td>Rental</td>\n",
       "      <td>New</td>\n",
       "      <td>2</td>\n",
       "      <td>4</td>\n",
       "      <td>1</td>\n",
       "    </tr>\n",
       "    <tr>\n",
       "      <th>25542</th>\n",
       "      <td>3</td>\n",
       "      <td>62</td>\n",
       "      <td>0</td>\n",
       "      <td>119.000000</td>\n",
       "      <td>1</td>\n",
       "      <td>1</td>\n",
       "      <td>1</td>\n",
       "      <td>5</td>\n",
       "      <td>10</td>\n",
       "      <td>0</td>\n",
       "      <td>Rental</td>\n",
       "      <td>New</td>\n",
       "      <td>1</td>\n",
       "      <td>3</td>\n",
       "      <td>1</td>\n",
       "    </tr>\n",
       "  </tbody>\n",
       "</table>\n",
       "<p>25543 rows × 15 columns</p>\n",
       "</div>"
      ],
      "text/plain": [
       "       neighbourhood_group  neighbourhood  room_type       price  \\\n",
       "0                        4             58          2   85.000000   \n",
       "1                        3            111          0   65.000000   \n",
       "2                        9             43          2   31.000000   \n",
       "3                        3            114          0   94.000000   \n",
       "4                        3             49          0  129.016058   \n",
       "...                    ...            ...        ...         ...   \n",
       "25538                   17            124          0  120.000000   \n",
       "25539                   14             56          0  120.000000   \n",
       "25540                   16             31          0  171.000000   \n",
       "25541                    5             13          0   74.000000   \n",
       "25542                    3             62          0  119.000000   \n",
       "\n",
       "       minimum_nights  number_of_reviews  reviews_per_month  \\\n",
       "0                   5                  3                  1   \n",
       "1                   5                  4                  1   \n",
       "2                   4                  1                  1   \n",
       "3                   5                  1                  1   \n",
       "4                   3                  1                  1   \n",
       "...               ...                ...                ...   \n",
       "25538               1                  1                  1   \n",
       "25539               1                  1                  1   \n",
       "25540               1                  1                  1   \n",
       "25541              31                  1                  1   \n",
       "25542               1                  1                  1   \n",
       "\n",
       "       calculated_host_listings_count  availability_365  \\\n",
       "0                                   0                 1   \n",
       "1                                   0                 0   \n",
       "2                                   0                 4   \n",
       "3                                   0                 6   \n",
       "4                                   0                 0   \n",
       "...                               ...               ...   \n",
       "25538                               5                10   \n",
       "25539                               5                 6   \n",
       "25540                               4                11   \n",
       "25541                               6                11   \n",
       "25542                               5                10   \n",
       "\n",
       "       number_of_reviews_ltm type_property stars bedrooms beds baths  \n",
       "0                          0        Rental  4.88        1    1     1  \n",
       "1                          0        Rental  4.63        1    2     1  \n",
       "2                          0        Rental  4.58        1    1     1  \n",
       "3                          0        Rental  4.91        6    1     1  \n",
       "4                          0        Rental  4.38        1    1     1  \n",
       "...                      ...           ...   ...      ...  ...   ...  \n",
       "25538                      0        Rental   New        2    3     1  \n",
       "25539                      0        Rental   New        1    1     1  \n",
       "25540                      0        Rental   New        1    1     1  \n",
       "25541                      0        Rental   New        2    4     1  \n",
       "25542                      0        Rental   New        1    3     1  \n",
       "\n",
       "[25543 rows x 15 columns]"
      ]
     },
     "execution_count": 931,
     "metadata": {},
     "output_type": "execute_result"
    }
   ],
   "source": [
    "Le.fit(df[\"room_type\"])\n",
    "df[\"room_type\"] = Le.transform(df[[\"room_type\"]])\n",
    "df[\"room_type\"]\n",
    "df"
   ]
  },
  {
   "cell_type": "markdown",
   "metadata": {},
   "source": [
    "### Cambio a variable categorica el tipo de propiedad"
   ]
  },
  {
   "cell_type": "code",
   "execution_count": 932,
   "metadata": {},
   "outputs": [
    {
     "name": "stderr",
     "output_type": "stream",
     "text": [
      "/Users/egmzvalerio/anaconda3/envs/iteso/lib/python3.12/site-packages/sklearn/preprocessing/_label.py:132: DataConversionWarning: A column-vector y was passed when a 1d array was expected. Please change the shape of y to (n_samples, ), for example using ravel().\n",
      "  y = column_or_1d(y, dtype=self.classes_.dtype, warn=True)\n"
     ]
    },
    {
     "data": {
      "text/plain": [
       "0        0\n",
       "1        0\n",
       "2        0\n",
       "3        0\n",
       "4        0\n",
       "        ..\n",
       "25538    0\n",
       "25539    0\n",
       "25540    0\n",
       "25541    0\n",
       "25542    0\n",
       "Name: type_property, Length: 25543, dtype: int64"
      ]
     },
     "execution_count": 932,
     "metadata": {},
     "output_type": "execute_result"
    }
   ],
   "source": [
    "Le.fit(df[\"type_property\"])\n",
    "df[\"type_property\"] = Le.transform(df[[\"type_property\"]])\n",
    "df[\"type_property\"]\n"
   ]
  },
  {
   "cell_type": "markdown",
   "metadata": {},
   "source": [
    "### Kmeans"
   ]
  },
  {
   "cell_type": "code",
   "execution_count": 939,
   "metadata": {},
   "outputs": [
    {
     "data": {
      "text/plain": [
       "array([[4, 58, 2, ..., '1', '1', '1'],\n",
       "       [3, 111, 0, ..., '1', '2', '1'],\n",
       "       [9, 43, 2, ..., '1', '1', '1'],\n",
       "       ...,\n",
       "       [16, 31, 0, ..., '1', '1', '1'],\n",
       "       [5, 13, 0, ..., '2', '4', '1'],\n",
       "       [3, 62, 0, ..., '1', '3', '1']], dtype=object)"
      ]
     },
     "execution_count": 939,
     "metadata": {},
     "output_type": "execute_result"
    }
   ],
   "source": [
    "X = df.values"
   ]
  }
 ],
 "metadata": {
  "kernelspec": {
   "display_name": "iteso",
   "language": "python",
   "name": "python3"
  },
  "language_info": {
   "codemirror_mode": {
    "name": "ipython",
    "version": 3
   },
   "file_extension": ".py",
   "mimetype": "text/x-python",
   "name": "python",
   "nbconvert_exporter": "python",
   "pygments_lexer": "ipython3",
   "version": "3.12.1"
  }
 },
 "nbformat": 4,
 "nbformat_minor": 2
}
