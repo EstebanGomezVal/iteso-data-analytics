{
 "cells": [
  {
   "cell_type": "markdown",
   "metadata": {},
   "source": [
    "# <p align=\"center\" > Collatz Sequence Length Finder"
   ]
  },
  {
   "cell_type": "markdown",
   "metadata": {},
   "source": [
    "Purpose:\n",
    "\n",
    "• Write a Python program that prompts the user for two positive integers, a and b (where a < b).\n",
    "\n",
    "• For every number n in the range a to b inclusive, calculate the length of its Collatz sequence until it reaches 1.\n",
    "\n",
    "• After calculating the lengths for all numbers in the given range, find the number that has the longest Collatz sequence and display it alongside its length."
   ]
  },
  {
   "cell_type": "code",
   "execution_count": 23,
   "metadata": {},
   "outputs": [
    {
     "data": {
      "text/plain": [
       "([7,\n",
       "  22,\n",
       "  11.0,\n",
       "  34.0,\n",
       "  17.0,\n",
       "  52.0,\n",
       "  26.0,\n",
       "  13.0,\n",
       "  40.0,\n",
       "  20.0,\n",
       "  10.0,\n",
       "  5.0,\n",
       "  16.0,\n",
       "  8.0,\n",
       "  4.0,\n",
       "  2.0,\n",
       "  1.0],\n",
       " 17)"
      ]
     },
     "execution_count": 23,
     "metadata": {},
     "output_type": "execute_result"
    }
   ],
   "source": [
    "def collatz(i):\n",
    "    seq =[i]\n",
    "\n",
    "    while(i > 1):\n",
    "\n",
    "        if(i % 2 == 0):\n",
    "            i = i / 2\n",
    "            seq.append(i)\n",
    "\n",
    "        else: \n",
    "            i = 3 * i + 1\n",
    "            seq.append(i)\n",
    "        \n",
    "    return seq, len(seq)\n",
    "\n",
    "collatz(7)\n"
   ]
  },
  {
   "cell_type": "code",
   "execution_count": 25,
   "metadata": {},
   "outputs": [
    {
     "name": "stdout",
     "output_type": "stream",
     "text": [
      "Collatz Sequence [9, 28, 14.0, 7.0, 22.0, 11.0, 34.0, 17.0, 52.0, 26.0, 13.0, 40.0, 20.0, 10.0, 5.0, 16.0, 8.0, 4.0, 2.0, 1.0]\n",
      "Collatz Length 20\n",
      "El número con la lista más largta es 9\n"
     ]
    }
   ],
   "source": [
    "a = int(input(\"Ingrese el primer numero: \"))\n",
    "b = int(input(\"Ingrese el segundo numero mayor que el primero: \"))\n",
    "\n",
    "x_len = 0\n",
    "x_seq = []\n",
    "\n",
    "for i in range (a, b + 1):\n",
    "    seq, length = collatz(i)\n",
    "\n",
    "    if length > x_len:\n",
    "\n",
    "        x_len = length\n",
    "        x_seq = seq\n",
    "\n",
    "print(\"Collatz Sequence\", x_seq)\n",
    "print(\"Collatz Length\", x_len)\n",
    "print(\"El número con la lista más largta es\", x_seq[0])\n"
   ]
  }
 ],
 "metadata": {
  "kernelspec": {
   "display_name": "iteso",
   "language": "python",
   "name": "python3"
  },
  "language_info": {
   "codemirror_mode": {
    "name": "ipython",
    "version": 3
   },
   "file_extension": ".py",
   "mimetype": "text/x-python",
   "name": "python",
   "nbconvert_exporter": "python",
   "pygments_lexer": "ipython3",
   "version": "3.12.1"
  }
 },
 "nbformat": 4,
 "nbformat_minor": 2
}
